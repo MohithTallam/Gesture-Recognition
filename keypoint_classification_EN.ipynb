{
  "cells": [
    {
      "cell_type": "code",
      "execution_count": 1,
      "metadata": {
        "id": "igMyGnjE9hEp"
      },
      "outputs": [
        {
          "name": "stderr",
          "output_type": "stream",
          "text": [
            "2022-05-01 11:32:06.073487: W tensorflow/stream_executor/platform/default/dso_loader.cc:64] Could not load dynamic library 'libcudart.so.11.0'; dlerror: libcudart.so.11.0: cannot open shared object file: No such file or directory; LD_LIBRARY_PATH: /opt/ros/noetic/lib\n",
            "2022-05-01 11:32:06.073511: I tensorflow/stream_executor/cuda/cudart_stub.cc:29] Ignore above cudart dlerror if you do not have a GPU set up on your machine.\n"
          ]
        }
      ],
      "source": [
        "import csv\n",
        "\n",
        "import numpy as np\n",
        "import tensorflow as tf\n",
        "from sklearn.model_selection import train_test_split\n",
        "\n",
        "RANDOM_SEED = 42"
      ]
    },
    {
      "cell_type": "markdown",
      "metadata": {
        "id": "t2HDvhIu9hEr"
      },
      "source": [
        "# Specify each path"
      ]
    },
    {
      "cell_type": "code",
      "execution_count": 2,
      "metadata": {
        "id": "9NvZP2Zn9hEy"
      },
      "outputs": [],
      "source": [
        "dataset = 'model/keypoint_classifier/keypoint.csv'\n",
        "model_save_path = 'model/keypoint_classifier/keypoint_classifier.hdf5'\n",
        "tflite_save_path = 'model/keypoint_classifier/keypoint_classifier.tflite'"
      ]
    },
    {
      "cell_type": "markdown",
      "metadata": {
        "id": "s5oMH7x19hEz"
      },
      "source": [
        "# Set number of classes"
      ]
    },
    {
      "cell_type": "code",
      "execution_count": 3,
      "metadata": {
        "id": "du4kodXL9hEz"
      },
      "outputs": [],
      "source": [
        "NUM_CLASSES = 12"
      ]
    },
    {
      "cell_type": "markdown",
      "metadata": {
        "id": "XjnL0uso9hEz"
      },
      "source": [
        "# Dataset reading"
      ]
    },
    {
      "cell_type": "code",
      "execution_count": 4,
      "metadata": {
        "id": "QT5ZqtEz9hE0"
      },
      "outputs": [],
      "source": [
        "X_dataset = np.loadtxt(dataset, delimiter=',', dtype='float32', usecols=list(range(1, (21 * 2) + 1)))"
      ]
    },
    {
      "cell_type": "code",
      "execution_count": 5,
      "metadata": {
        "id": "QmoKFsp49hE0"
      },
      "outputs": [],
      "source": [
        "y_dataset = np.loadtxt(dataset, delimiter=',', dtype='int32', usecols=(0))"
      ]
    },
    {
      "cell_type": "code",
      "execution_count": 6,
      "metadata": {
        "id": "xQU7JTZ_9hE0"
      },
      "outputs": [],
      "source": [
        "X_train, X_test, y_train, y_test = train_test_split(X_dataset, y_dataset, train_size=0.75, random_state=RANDOM_SEED)"
      ]
    },
    {
      "cell_type": "markdown",
      "metadata": {
        "id": "mxK_lETT9hE0"
      },
      "source": [
        "# Model building"
      ]
    },
    {
      "cell_type": "code",
      "execution_count": 7,
      "metadata": {
        "id": "vHBmUf1t9hE1"
      },
      "outputs": [
        {
          "name": "stderr",
          "output_type": "stream",
          "text": [
            "2022-05-01 11:32:08.346470: I tensorflow/stream_executor/cuda/cuda_gpu_executor.cc:936] successful NUMA node read from SysFS had negative value (-1), but there must be at least one NUMA node, so returning NUMA node zero\n",
            "2022-05-01 11:32:08.347512: W tensorflow/stream_executor/platform/default/dso_loader.cc:64] Could not load dynamic library 'libcudart.so.11.0'; dlerror: libcudart.so.11.0: cannot open shared object file: No such file or directory; LD_LIBRARY_PATH: /opt/ros/noetic/lib\n",
            "2022-05-01 11:32:08.347586: W tensorflow/stream_executor/platform/default/dso_loader.cc:64] Could not load dynamic library 'libcublas.so.11'; dlerror: libcublas.so.11: cannot open shared object file: No such file or directory; LD_LIBRARY_PATH: /opt/ros/noetic/lib\n",
            "2022-05-01 11:32:08.347649: W tensorflow/stream_executor/platform/default/dso_loader.cc:64] Could not load dynamic library 'libcublasLt.so.11'; dlerror: libcublasLt.so.11: cannot open shared object file: No such file or directory; LD_LIBRARY_PATH: /opt/ros/noetic/lib\n",
            "2022-05-01 11:32:08.347713: W tensorflow/stream_executor/platform/default/dso_loader.cc:64] Could not load dynamic library 'libcufft.so.10'; dlerror: libcufft.so.10: cannot open shared object file: No such file or directory; LD_LIBRARY_PATH: /opt/ros/noetic/lib\n",
            "2022-05-01 11:32:08.347776: W tensorflow/stream_executor/platform/default/dso_loader.cc:64] Could not load dynamic library 'libcurand.so.10'; dlerror: libcurand.so.10: cannot open shared object file: No such file or directory; LD_LIBRARY_PATH: /opt/ros/noetic/lib\n",
            "2022-05-01 11:32:08.347838: W tensorflow/stream_executor/platform/default/dso_loader.cc:64] Could not load dynamic library 'libcusolver.so.11'; dlerror: libcusolver.so.11: cannot open shared object file: No such file or directory; LD_LIBRARY_PATH: /opt/ros/noetic/lib\n",
            "2022-05-01 11:32:08.347911: W tensorflow/stream_executor/platform/default/dso_loader.cc:64] Could not load dynamic library 'libcusparse.so.11'; dlerror: libcusparse.so.11: cannot open shared object file: No such file or directory; LD_LIBRARY_PATH: /opt/ros/noetic/lib\n",
            "2022-05-01 11:32:08.347970: W tensorflow/stream_executor/platform/default/dso_loader.cc:64] Could not load dynamic library 'libcudnn.so.8'; dlerror: libcudnn.so.8: cannot open shared object file: No such file or directory; LD_LIBRARY_PATH: /opt/ros/noetic/lib\n",
            "2022-05-01 11:32:08.347981: W tensorflow/core/common_runtime/gpu/gpu_device.cc:1850] Cannot dlopen some GPU libraries. Please make sure the missing libraries mentioned above are installed properly if you would like to use GPU. Follow the guide at https://www.tensorflow.org/install/gpu for how to download and setup the required libraries for your platform.\n",
            "Skipping registering GPU devices...\n",
            "2022-05-01 11:32:08.348203: I tensorflow/core/platform/cpu_feature_guard.cc:151] This TensorFlow binary is optimized with oneAPI Deep Neural Network Library (oneDNN) to use the following CPU instructions in performance-critical operations:  AVX2 FMA\n",
            "To enable them in other operations, rebuild TensorFlow with the appropriate compiler flags.\n"
          ]
        }
      ],
      "source": [
        "model = tf.keras.models.Sequential([\n",
        "    tf.keras.layers.Input((21 * 2, )),\n",
        "    tf.keras.layers.Dropout(0.2),\n",
        "    tf.keras.layers.Dense(20, activation='relu'),\n",
        "    tf.keras.layers.Dropout(0.4),\n",
        "    tf.keras.layers.Dense(10, activation='relu'),\n",
        "    tf.keras.layers.Dense(NUM_CLASSES, activation='softmax')\n",
        "])"
      ]
    },
    {
      "cell_type": "code",
      "execution_count": 8,
      "metadata": {
        "colab": {
          "base_uri": "https://localhost:8080/"
        },
        "id": "ypqky9tc9hE1",
        "outputId": "5db082bb-30e3-4110-bf63-a1ee777ecd46"
      },
      "outputs": [
        {
          "name": "stdout",
          "output_type": "stream",
          "text": [
            "Model: \"sequential\"\n",
            "_________________________________________________________________\n",
            " Layer (type)                Output Shape              Param #   \n",
            "=================================================================\n",
            " dropout (Dropout)           (None, 42)                0         \n",
            "                                                                 \n",
            " dense (Dense)               (None, 20)                860       \n",
            "                                                                 \n",
            " dropout_1 (Dropout)         (None, 20)                0         \n",
            "                                                                 \n",
            " dense_1 (Dense)             (None, 10)                210       \n",
            "                                                                 \n",
            " dense_2 (Dense)             (None, 12)                132       \n",
            "                                                                 \n",
            "=================================================================\n",
            "Total params: 1,202\n",
            "Trainable params: 1,202\n",
            "Non-trainable params: 0\n",
            "_________________________________________________________________\n"
          ]
        }
      ],
      "source": [
        "model.summary()  # tf.keras.utils.plot_model(model, show_shapes=True)"
      ]
    },
    {
      "cell_type": "code",
      "execution_count": 9,
      "metadata": {
        "id": "MbMjOflQ9hE1"
      },
      "outputs": [],
      "source": [
        "# Model checkpoint callback\n",
        "cp_callback = tf.keras.callbacks.ModelCheckpoint(\n",
        "    model_save_path, verbose=1, save_weights_only=False)\n",
        "# Callback for early stopping\n",
        "es_callback = tf.keras.callbacks.EarlyStopping(patience=20, verbose=1)"
      ]
    },
    {
      "cell_type": "code",
      "execution_count": 10,
      "metadata": {
        "id": "c3Dac0M_9hE2"
      },
      "outputs": [],
      "source": [
        "# Model compilation\n",
        "model.compile(\n",
        "    optimizer='adam',\n",
        "    loss='sparse_categorical_crossentropy',\n",
        "    metrics=['accuracy']\n",
        ")"
      ]
    },
    {
      "cell_type": "markdown",
      "metadata": {
        "id": "7XI0j1Iu9hE2"
      },
      "source": [
        "# Model training"
      ]
    },
    {
      "cell_type": "code",
      "execution_count": 11,
      "metadata": {
        "colab": {
          "base_uri": "https://localhost:8080/"
        },
        "id": "WirBl-JE9hE3",
        "outputId": "71b30ca2-8294-4d9d-8aa2-800d90d399de",
        "scrolled": true
      },
      "outputs": [
        {
          "name": "stdout",
          "output_type": "stream",
          "text": [
            "Epoch 1/1000\n",
            "44/47 [===========================>..] - ETA: 0s - loss: 2.4978 - accuracy: 0.0945 \n",
            "Epoch 1: saving model to model/keypoint_classifier/keypoint_classifier.hdf5\n",
            "47/47 [==============================] - 1s 6ms/step - loss: 2.4928 - accuracy: 0.0970 - val_loss: 2.3490 - val_accuracy: 0.1850\n",
            "Epoch 2/1000\n",
            "42/47 [=========================>....] - ETA: 0s - loss: 2.3108 - accuracy: 0.1734\n",
            "Epoch 2: saving model to model/keypoint_classifier/keypoint_classifier.hdf5\n",
            "47/47 [==============================] - 0s 2ms/step - loss: 2.3028 - accuracy: 0.1758 - val_loss: 2.1718 - val_accuracy: 0.2324\n",
            "Epoch 3/1000\n",
            "44/47 [===========================>..] - ETA: 0s - loss: 2.1451 - accuracy: 0.2212\n",
            "Epoch 3: saving model to model/keypoint_classifier/keypoint_classifier.hdf5\n",
            "47/47 [==============================] - 0s 2ms/step - loss: 2.1439 - accuracy: 0.2205 - val_loss: 2.0164 - val_accuracy: 0.2616\n",
            "Epoch 4/1000\n",
            "39/47 [=======================>......] - ETA: 0s - loss: 2.0269 - accuracy: 0.2388\n",
            "Epoch 4: saving model to model/keypoint_classifier/keypoint_classifier.hdf5\n",
            "47/47 [==============================] - 0s 2ms/step - loss: 2.0208 - accuracy: 0.2393 - val_loss: 1.9065 - val_accuracy: 0.2812\n",
            "Epoch 5/1000\n",
            "40/47 [========================>.....] - ETA: 0s - loss: 1.9370 - accuracy: 0.2570\n",
            "Epoch 5: saving model to model/keypoint_classifier/keypoint_classifier.hdf5\n",
            "47/47 [==============================] - 0s 2ms/step - loss: 1.9354 - accuracy: 0.2565 - val_loss: 1.8190 - val_accuracy: 0.3301\n",
            "Epoch 6/1000\n",
            "46/47 [============================>.] - ETA: 0s - loss: 1.8627 - accuracy: 0.2784\n",
            "Epoch 6: saving model to model/keypoint_classifier/keypoint_classifier.hdf5\n",
            "47/47 [==============================] - 0s 2ms/step - loss: 1.8619 - accuracy: 0.2790 - val_loss: 1.7369 - val_accuracy: 0.3327\n",
            "Epoch 7/1000\n",
            "41/47 [=========================>....] - ETA: 0s - loss: 1.8030 - accuracy: 0.2961\n",
            "Epoch 7: saving model to model/keypoint_classifier/keypoint_classifier.hdf5\n",
            "47/47 [==============================] - 0s 2ms/step - loss: 1.8029 - accuracy: 0.2943 - val_loss: 1.6667 - val_accuracy: 0.3790\n",
            "Epoch 8/1000\n",
            "39/47 [=======================>......] - ETA: 0s - loss: 1.7660 - accuracy: 0.3067\n",
            "Epoch 8: saving model to model/keypoint_classifier/keypoint_classifier.hdf5\n",
            "47/47 [==============================] - 0s 2ms/step - loss: 1.7559 - accuracy: 0.3103 - val_loss: 1.6127 - val_accuracy: 0.3846\n",
            "Epoch 9/1000\n",
            "43/47 [==========================>...] - ETA: 0s - loss: 1.7058 - accuracy: 0.3234\n",
            "Epoch 9: saving model to model/keypoint_classifier/keypoint_classifier.hdf5\n",
            "47/47 [==============================] - 0s 2ms/step - loss: 1.7069 - accuracy: 0.3222 - val_loss: 1.5620 - val_accuracy: 0.3972\n",
            "Epoch 10/1000\n",
            "37/47 [======================>.......] - ETA: 0s - loss: 1.6722 - accuracy: 0.3328\n",
            "Epoch 10: saving model to model/keypoint_classifier/keypoint_classifier.hdf5\n",
            "47/47 [==============================] - 0s 3ms/step - loss: 1.6718 - accuracy: 0.3323 - val_loss: 1.5187 - val_accuracy: 0.4189\n",
            "Epoch 11/1000\n",
            "26/47 [===============>..............] - ETA: 0s - loss: 1.6454 - accuracy: 0.3525\n",
            "Epoch 11: saving model to model/keypoint_classifier/keypoint_classifier.hdf5\n",
            "47/47 [==============================] - 0s 4ms/step - loss: 1.6317 - accuracy: 0.3526 - val_loss: 1.4748 - val_accuracy: 0.4088\n",
            "Epoch 12/1000\n",
            "28/47 [================>.............] - ETA: 0s - loss: 1.6121 - accuracy: 0.3669\n",
            "Epoch 12: saving model to model/keypoint_classifier/keypoint_classifier.hdf5\n",
            "47/47 [==============================] - 0s 3ms/step - loss: 1.6137 - accuracy: 0.3597 - val_loss: 1.4341 - val_accuracy: 0.4627\n",
            "Epoch 13/1000\n",
            "35/47 [=====================>........] - ETA: 0s - loss: 1.5880 - accuracy: 0.3741\n",
            "Epoch 13: saving model to model/keypoint_classifier/keypoint_classifier.hdf5\n",
            "47/47 [==============================] - 0s 2ms/step - loss: 1.5767 - accuracy: 0.3795 - val_loss: 1.4006 - val_accuracy: 0.4864\n",
            "Epoch 14/1000\n",
            "36/47 [=====================>........] - ETA: 0s - loss: 1.5423 - accuracy: 0.4036\n",
            "Epoch 14: saving model to model/keypoint_classifier/keypoint_classifier.hdf5\n",
            "47/47 [==============================] - 0s 3ms/step - loss: 1.5381 - accuracy: 0.4040 - val_loss: 1.3598 - val_accuracy: 0.5262\n",
            "Epoch 15/1000\n",
            "35/47 [=====================>........] - ETA: 0s - loss: 1.5123 - accuracy: 0.4116\n",
            "Epoch 15: saving model to model/keypoint_classifier/keypoint_classifier.hdf5\n",
            "47/47 [==============================] - 0s 2ms/step - loss: 1.5125 - accuracy: 0.4155 - val_loss: 1.3246 - val_accuracy: 0.5373\n",
            "Epoch 16/1000\n",
            "37/47 [======================>.......] - ETA: 0s - loss: 1.4769 - accuracy: 0.4179\n",
            "Epoch 16: saving model to model/keypoint_classifier/keypoint_classifier.hdf5\n",
            "47/47 [==============================] - 0s 3ms/step - loss: 1.4813 - accuracy: 0.4165 - val_loss: 1.2883 - val_accuracy: 0.5559\n",
            "Epoch 17/1000\n",
            "26/47 [===============>..............] - ETA: 0s - loss: 1.4690 - accuracy: 0.4279\n",
            "Epoch 17: saving model to model/keypoint_classifier/keypoint_classifier.hdf5\n",
            "47/47 [==============================] - 0s 3ms/step - loss: 1.4603 - accuracy: 0.4351 - val_loss: 1.2484 - val_accuracy: 0.5610\n",
            "Epoch 18/1000\n",
            "37/47 [======================>.......] - ETA: 0s - loss: 1.4195 - accuracy: 0.4447\n",
            "Epoch 18: saving model to model/keypoint_classifier/keypoint_classifier.hdf5\n",
            "47/47 [==============================] - 0s 3ms/step - loss: 1.4182 - accuracy: 0.4439 - val_loss: 1.1966 - val_accuracy: 0.6104\n",
            "Epoch 19/1000\n",
            "32/47 [===================>..........] - ETA: 0s - loss: 1.3938 - accuracy: 0.4714\n",
            "Epoch 19: saving model to model/keypoint_classifier/keypoint_classifier.hdf5\n",
            "47/47 [==============================] - 0s 3ms/step - loss: 1.3995 - accuracy: 0.4677 - val_loss: 1.1573 - val_accuracy: 0.6633\n",
            "Epoch 20/1000\n",
            "39/47 [=======================>......] - ETA: 0s - loss: 1.3622 - accuracy: 0.4748\n",
            "Epoch 20: saving model to model/keypoint_classifier/keypoint_classifier.hdf5\n",
            "47/47 [==============================] - 0s 2ms/step - loss: 1.3730 - accuracy: 0.4726 - val_loss: 1.1239 - val_accuracy: 0.6875\n",
            "Epoch 21/1000\n",
            "37/47 [======================>.......] - ETA: 0s - loss: 1.3530 - accuracy: 0.5017\n",
            "Epoch 21: saving model to model/keypoint_classifier/keypoint_classifier.hdf5\n",
            "47/47 [==============================] - 0s 2ms/step - loss: 1.3491 - accuracy: 0.5017 - val_loss: 1.0724 - val_accuracy: 0.7142\n",
            "Epoch 22/1000\n",
            "40/47 [========================>.....] - ETA: 0s - loss: 1.3231 - accuracy: 0.4975\n",
            "Epoch 22: saving model to model/keypoint_classifier/keypoint_classifier.hdf5\n",
            "47/47 [==============================] - 0s 2ms/step - loss: 1.3192 - accuracy: 0.4983 - val_loss: 1.0243 - val_accuracy: 0.7712\n",
            "Epoch 23/1000\n",
            "32/47 [===================>..........] - ETA: 0s - loss: 1.3027 - accuracy: 0.5059\n",
            "Epoch 23: saving model to model/keypoint_classifier/keypoint_classifier.hdf5\n",
            "47/47 [==============================] - 0s 3ms/step - loss: 1.2976 - accuracy: 0.5086 - val_loss: 0.9784 - val_accuracy: 0.7933\n",
            "Epoch 24/1000\n",
            "40/47 [========================>.....] - ETA: 0s - loss: 1.2688 - accuracy: 0.5260\n",
            "Epoch 24: saving model to model/keypoint_classifier/keypoint_classifier.hdf5\n",
            "47/47 [==============================] - 0s 3ms/step - loss: 1.2660 - accuracy: 0.5284 - val_loss: 0.9491 - val_accuracy: 0.7873\n",
            "Epoch 25/1000\n",
            "30/47 [==================>...........] - ETA: 0s - loss: 1.2541 - accuracy: 0.5359\n",
            "Epoch 25: saving model to model/keypoint_classifier/keypoint_classifier.hdf5\n",
            "47/47 [==============================] - 0s 3ms/step - loss: 1.2463 - accuracy: 0.5417 - val_loss: 0.8949 - val_accuracy: 0.8075\n",
            "Epoch 26/1000\n",
            "41/47 [=========================>....] - ETA: 0s - loss: 1.2164 - accuracy: 0.5463\n",
            "Epoch 26: saving model to model/keypoint_classifier/keypoint_classifier.hdf5\n",
            "47/47 [==============================] - 0s 2ms/step - loss: 1.2090 - accuracy: 0.5509 - val_loss: 0.8626 - val_accuracy: 0.8095\n",
            "Epoch 27/1000\n",
            "34/47 [====================>.........] - ETA: 0s - loss: 1.1880 - accuracy: 0.5607\n",
            "Epoch 27: saving model to model/keypoint_classifier/keypoint_classifier.hdf5\n",
            "47/47 [==============================] - 0s 3ms/step - loss: 1.1825 - accuracy: 0.5622 - val_loss: 0.8247 - val_accuracy: 0.8175\n",
            "Epoch 28/1000\n",
            "42/47 [=========================>....] - ETA: 0s - loss: 1.1831 - accuracy: 0.5584\n",
            "Epoch 28: saving model to model/keypoint_classifier/keypoint_classifier.hdf5\n",
            "47/47 [==============================] - 0s 2ms/step - loss: 1.1804 - accuracy: 0.5613 - val_loss: 0.8043 - val_accuracy: 0.8160\n",
            "Epoch 29/1000\n",
            "42/47 [=========================>....] - ETA: 0s - loss: 1.1520 - accuracy: 0.5744\n",
            "Epoch 29: saving model to model/keypoint_classifier/keypoint_classifier.hdf5\n",
            "47/47 [==============================] - 0s 2ms/step - loss: 1.1534 - accuracy: 0.5714 - val_loss: 0.7648 - val_accuracy: 0.8175\n",
            "Epoch 30/1000\n",
            "39/47 [=======================>......] - ETA: 0s - loss: 1.1321 - accuracy: 0.5833\n",
            "Epoch 30: saving model to model/keypoint_classifier/keypoint_classifier.hdf5\n",
            "47/47 [==============================] - 0s 2ms/step - loss: 1.1389 - accuracy: 0.5773 - val_loss: 0.7576 - val_accuracy: 0.8191\n",
            "Epoch 31/1000\n",
            "30/47 [==================>...........] - ETA: 0s - loss: 1.1042 - accuracy: 0.5911\n",
            "Epoch 31: saving model to model/keypoint_classifier/keypoint_classifier.hdf5\n",
            "47/47 [==============================] - 0s 3ms/step - loss: 1.1159 - accuracy: 0.5857 - val_loss: 0.7361 - val_accuracy: 0.8291\n",
            "Epoch 32/1000\n",
            "46/47 [============================>.] - ETA: 0s - loss: 1.1003 - accuracy: 0.5902\n",
            "Epoch 32: saving model to model/keypoint_classifier/keypoint_classifier.hdf5\n",
            "47/47 [==============================] - 0s 2ms/step - loss: 1.0994 - accuracy: 0.5906 - val_loss: 0.7143 - val_accuracy: 0.8362\n",
            "Epoch 33/1000\n",
            "37/47 [======================>.......] - ETA: 0s - loss: 1.0887 - accuracy: 0.6043\n",
            "Epoch 33: saving model to model/keypoint_classifier/keypoint_classifier.hdf5\n",
            "47/47 [==============================] - 0s 2ms/step - loss: 1.0962 - accuracy: 0.6008 - val_loss: 0.6999 - val_accuracy: 0.8417\n",
            "Epoch 34/1000\n",
            "43/47 [==========================>...] - ETA: 0s - loss: 1.0942 - accuracy: 0.5870\n",
            "Epoch 34: saving model to model/keypoint_classifier/keypoint_classifier.hdf5\n",
            "47/47 [==============================] - 0s 2ms/step - loss: 1.0903 - accuracy: 0.5899 - val_loss: 0.6857 - val_accuracy: 0.8337\n",
            "Epoch 35/1000\n",
            "39/47 [=======================>......] - ETA: 0s - loss: 1.0802 - accuracy: 0.5978\n",
            "Epoch 35: saving model to model/keypoint_classifier/keypoint_classifier.hdf5\n",
            "47/47 [==============================] - 0s 2ms/step - loss: 1.0767 - accuracy: 0.5971 - val_loss: 0.6751 - val_accuracy: 0.8332\n",
            "Epoch 36/1000\n",
            "39/47 [=======================>......] - ETA: 0s - loss: 1.0491 - accuracy: 0.6112\n",
            "Epoch 36: saving model to model/keypoint_classifier/keypoint_classifier.hdf5\n",
            "47/47 [==============================] - 0s 2ms/step - loss: 1.0541 - accuracy: 0.6077 - val_loss: 0.6459 - val_accuracy: 0.8377\n",
            "Epoch 37/1000\n",
            "36/47 [=====================>........] - ETA: 0s - loss: 1.0752 - accuracy: 0.6042\n",
            "Epoch 37: saving model to model/keypoint_classifier/keypoint_classifier.hdf5\n",
            "47/47 [==============================] - 0s 3ms/step - loss: 1.0755 - accuracy: 0.6034 - val_loss: 0.6644 - val_accuracy: 0.8357\n",
            "Epoch 38/1000\n",
            "36/47 [=====================>........] - ETA: 0s - loss: 1.0607 - accuracy: 0.6079\n",
            "Epoch 38: saving model to model/keypoint_classifier/keypoint_classifier.hdf5\n",
            "47/47 [==============================] - 0s 2ms/step - loss: 1.0493 - accuracy: 0.6118 - val_loss: 0.6416 - val_accuracy: 0.8422\n",
            "Epoch 39/1000\n",
            "45/47 [===========================>..] - ETA: 0s - loss: 1.0758 - accuracy: 0.6068\n",
            "Epoch 39: saving model to model/keypoint_classifier/keypoint_classifier.hdf5\n",
            "47/47 [==============================] - 0s 2ms/step - loss: 1.0725 - accuracy: 0.6094 - val_loss: 0.6351 - val_accuracy: 0.8493\n",
            "Epoch 40/1000\n",
            "41/47 [=========================>....] - ETA: 0s - loss: 1.0516 - accuracy: 0.6029\n",
            "Epoch 40: saving model to model/keypoint_classifier/keypoint_classifier.hdf5\n",
            "47/47 [==============================] - 0s 2ms/step - loss: 1.0486 - accuracy: 0.6015 - val_loss: 0.6398 - val_accuracy: 0.8453\n",
            "Epoch 41/1000\n",
            "42/47 [=========================>....] - ETA: 0s - loss: 1.0127 - accuracy: 0.6194\n",
            "Epoch 41: saving model to model/keypoint_classifier/keypoint_classifier.hdf5\n",
            "47/47 [==============================] - 0s 2ms/step - loss: 1.0085 - accuracy: 0.6215 - val_loss: 0.6062 - val_accuracy: 0.8543\n",
            "Epoch 42/1000\n",
            "43/47 [==========================>...] - ETA: 0s - loss: 1.0163 - accuracy: 0.6208\n",
            "Epoch 42: saving model to model/keypoint_classifier/keypoint_classifier.hdf5\n",
            "47/47 [==============================] - 0s 2ms/step - loss: 1.0118 - accuracy: 0.6207 - val_loss: 0.6049 - val_accuracy: 0.8488\n",
            "Epoch 43/1000\n",
            "42/47 [=========================>....] - ETA: 0s - loss: 1.0090 - accuracy: 0.6203\n",
            "Epoch 43: saving model to model/keypoint_classifier/keypoint_classifier.hdf5\n",
            "47/47 [==============================] - 0s 2ms/step - loss: 1.0079 - accuracy: 0.6215 - val_loss: 0.6015 - val_accuracy: 0.8498\n",
            "Epoch 44/1000\n",
            "44/47 [===========================>..] - ETA: 0s - loss: 1.0112 - accuracy: 0.6188\n",
            "Epoch 44: saving model to model/keypoint_classifier/keypoint_classifier.hdf5\n",
            "47/47 [==============================] - 0s 2ms/step - loss: 1.0045 - accuracy: 0.6227 - val_loss: 0.5865 - val_accuracy: 0.8513\n",
            "Epoch 45/1000\n",
            "43/47 [==========================>...] - ETA: 0s - loss: 1.0029 - accuracy: 0.6215\n",
            "Epoch 45: saving model to model/keypoint_classifier/keypoint_classifier.hdf5\n",
            "47/47 [==============================] - 0s 2ms/step - loss: 0.9966 - accuracy: 0.6239 - val_loss: 0.5742 - val_accuracy: 0.8538\n",
            "Epoch 46/1000\n",
            "40/47 [========================>.....] - ETA: 0s - loss: 1.0076 - accuracy: 0.6252\n",
            "Epoch 46: saving model to model/keypoint_classifier/keypoint_classifier.hdf5\n",
            "47/47 [==============================] - 0s 2ms/step - loss: 1.0034 - accuracy: 0.6269 - val_loss: 0.5745 - val_accuracy: 0.8553\n",
            "Epoch 47/1000\n",
            "34/47 [====================>.........] - ETA: 0s - loss: 0.9947 - accuracy: 0.6252\n",
            "Epoch 47: saving model to model/keypoint_classifier/keypoint_classifier.hdf5\n",
            "47/47 [==============================] - 0s 2ms/step - loss: 1.0035 - accuracy: 0.6267 - val_loss: 0.5702 - val_accuracy: 0.8579\n",
            "Epoch 48/1000\n",
            "42/47 [=========================>....] - ETA: 0s - loss: 0.9695 - accuracy: 0.6412\n",
            "Epoch 48: saving model to model/keypoint_classifier/keypoint_classifier.hdf5\n",
            "47/47 [==============================] - 0s 2ms/step - loss: 0.9690 - accuracy: 0.6395 - val_loss: 0.5686 - val_accuracy: 0.8569\n",
            "Epoch 49/1000\n",
            "37/47 [======================>.......] - ETA: 0s - loss: 0.9812 - accuracy: 0.6332\n",
            "Epoch 49: saving model to model/keypoint_classifier/keypoint_classifier.hdf5\n",
            "47/47 [==============================] - 0s 2ms/step - loss: 0.9817 - accuracy: 0.6326 - val_loss: 0.5556 - val_accuracy: 0.8659\n",
            "Epoch 50/1000\n",
            "34/47 [====================>.........] - ETA: 0s - loss: 0.9832 - accuracy: 0.6360\n",
            "Epoch 50: saving model to model/keypoint_classifier/keypoint_classifier.hdf5\n",
            "47/47 [==============================] - 0s 2ms/step - loss: 0.9777 - accuracy: 0.6390 - val_loss: 0.5428 - val_accuracy: 0.8629\n",
            "Epoch 51/1000\n",
            "46/47 [============================>.] - ETA: 0s - loss: 0.9644 - accuracy: 0.6456\n",
            "Epoch 51: saving model to model/keypoint_classifier/keypoint_classifier.hdf5\n",
            "47/47 [==============================] - 0s 2ms/step - loss: 0.9655 - accuracy: 0.6450 - val_loss: 0.5410 - val_accuracy: 0.8619\n",
            "Epoch 52/1000\n",
            "43/47 [==========================>...] - ETA: 0s - loss: 0.9804 - accuracy: 0.6359\n",
            "Epoch 52: saving model to model/keypoint_classifier/keypoint_classifier.hdf5\n",
            "47/47 [==============================] - 0s 2ms/step - loss: 0.9774 - accuracy: 0.6365 - val_loss: 0.5339 - val_accuracy: 0.8679\n",
            "Epoch 53/1000\n",
            "43/47 [==========================>...] - ETA: 0s - loss: 0.9572 - accuracy: 0.6475\n",
            "Epoch 53: saving model to model/keypoint_classifier/keypoint_classifier.hdf5\n",
            "47/47 [==============================] - 0s 2ms/step - loss: 0.9603 - accuracy: 0.6461 - val_loss: 0.5321 - val_accuracy: 0.8700\n",
            "Epoch 54/1000\n",
            "37/47 [======================>.......] - ETA: 0s - loss: 0.9721 - accuracy: 0.6356\n",
            "Epoch 54: saving model to model/keypoint_classifier/keypoint_classifier.hdf5\n",
            "47/47 [==============================] - 0s 2ms/step - loss: 0.9721 - accuracy: 0.6400 - val_loss: 0.5285 - val_accuracy: 0.8740\n",
            "Epoch 55/1000\n",
            "39/47 [=======================>......] - ETA: 0s - loss: 0.9625 - accuracy: 0.6454\n",
            "Epoch 55: saving model to model/keypoint_classifier/keypoint_classifier.hdf5\n",
            "47/47 [==============================] - 0s 2ms/step - loss: 0.9560 - accuracy: 0.6481 - val_loss: 0.5143 - val_accuracy: 0.8760\n",
            "Epoch 56/1000\n",
            "44/47 [===========================>..] - ETA: 0s - loss: 0.9258 - accuracy: 0.6580\n",
            "Epoch 56: saving model to model/keypoint_classifier/keypoint_classifier.hdf5\n",
            "47/47 [==============================] - 0s 2ms/step - loss: 0.9270 - accuracy: 0.6578 - val_loss: 0.5171 - val_accuracy: 0.8684\n",
            "Epoch 57/1000\n",
            "39/47 [=======================>......] - ETA: 0s - loss: 0.9460 - accuracy: 0.6484\n",
            "Epoch 57: saving model to model/keypoint_classifier/keypoint_classifier.hdf5\n",
            "47/47 [==============================] - 0s 2ms/step - loss: 0.9495 - accuracy: 0.6484 - val_loss: 0.5180 - val_accuracy: 0.8720\n",
            "Epoch 58/1000\n",
            "41/47 [=========================>....] - ETA: 0s - loss: 0.9482 - accuracy: 0.6513\n",
            "Epoch 58: saving model to model/keypoint_classifier/keypoint_classifier.hdf5\n",
            "47/47 [==============================] - 0s 2ms/step - loss: 0.9460 - accuracy: 0.6534 - val_loss: 0.5103 - val_accuracy: 0.8750\n",
            "Epoch 59/1000\n",
            "43/47 [==========================>...] - ETA: 0s - loss: 0.9542 - accuracy: 0.6557\n",
            "Epoch 59: saving model to model/keypoint_classifier/keypoint_classifier.hdf5\n",
            "47/47 [==============================] - 0s 2ms/step - loss: 0.9480 - accuracy: 0.6583 - val_loss: 0.5076 - val_accuracy: 0.8750\n",
            "Epoch 60/1000\n",
            "42/47 [=========================>....] - ETA: 0s - loss: 0.9651 - accuracy: 0.6453\n",
            "Epoch 60: saving model to model/keypoint_classifier/keypoint_classifier.hdf5\n",
            "47/47 [==============================] - 0s 2ms/step - loss: 0.9586 - accuracy: 0.6497 - val_loss: 0.5052 - val_accuracy: 0.8775\n",
            "Epoch 61/1000\n",
            "39/47 [=======================>......] - ETA: 0s - loss: 0.9315 - accuracy: 0.6621\n",
            "Epoch 61: saving model to model/keypoint_classifier/keypoint_classifier.hdf5\n",
            "47/47 [==============================] - 0s 2ms/step - loss: 0.9387 - accuracy: 0.6568 - val_loss: 0.4938 - val_accuracy: 0.8770\n",
            "Epoch 62/1000\n",
            "43/47 [==========================>...] - ETA: 0s - loss: 0.9308 - accuracy: 0.6577\n",
            "Epoch 62: saving model to model/keypoint_classifier/keypoint_classifier.hdf5\n",
            "47/47 [==============================] - 0s 2ms/step - loss: 0.9275 - accuracy: 0.6588 - val_loss: 0.4962 - val_accuracy: 0.8760\n",
            "Epoch 63/1000\n",
            "42/47 [=========================>....] - ETA: 0s - loss: 0.9332 - accuracy: 0.6635\n",
            "Epoch 63: saving model to model/keypoint_classifier/keypoint_classifier.hdf5\n",
            "47/47 [==============================] - 0s 2ms/step - loss: 0.9338 - accuracy: 0.6629 - val_loss: 0.4987 - val_accuracy: 0.8705\n",
            "Epoch 64/1000\n",
            "42/47 [=========================>....] - ETA: 0s - loss: 0.9328 - accuracy: 0.6669\n",
            "Epoch 64: saving model to model/keypoint_classifier/keypoint_classifier.hdf5\n",
            "47/47 [==============================] - 0s 2ms/step - loss: 0.9303 - accuracy: 0.6674 - val_loss: 0.4863 - val_accuracy: 0.8700\n",
            "Epoch 65/1000\n",
            "38/47 [=======================>......] - ETA: 0s - loss: 0.9120 - accuracy: 0.6717\n",
            "Epoch 65: saving model to model/keypoint_classifier/keypoint_classifier.hdf5\n",
            "47/47 [==============================] - 0s 2ms/step - loss: 0.9112 - accuracy: 0.6711 - val_loss: 0.4775 - val_accuracy: 0.8831\n",
            "Epoch 66/1000\n",
            "34/47 [====================>.........] - ETA: 0s - loss: 0.9385 - accuracy: 0.6528\n",
            "Epoch 66: saving model to model/keypoint_classifier/keypoint_classifier.hdf5\n",
            "47/47 [==============================] - 0s 2ms/step - loss: 0.9255 - accuracy: 0.6585 - val_loss: 0.4745 - val_accuracy: 0.8816\n",
            "Epoch 67/1000\n",
            "43/47 [==========================>...] - ETA: 0s - loss: 0.9100 - accuracy: 0.6699\n",
            "Epoch 67: saving model to model/keypoint_classifier/keypoint_classifier.hdf5\n",
            "47/47 [==============================] - 0s 2ms/step - loss: 0.9115 - accuracy: 0.6703 - val_loss: 0.4659 - val_accuracy: 0.8785\n",
            "Epoch 68/1000\n",
            "34/47 [====================>.........] - ETA: 0s - loss: 0.9199 - accuracy: 0.6675\n",
            "Epoch 68: saving model to model/keypoint_classifier/keypoint_classifier.hdf5\n",
            "47/47 [==============================] - 0s 3ms/step - loss: 0.9204 - accuracy: 0.6687 - val_loss: 0.4679 - val_accuracy: 0.8856\n",
            "Epoch 69/1000\n",
            "42/47 [=========================>....] - ETA: 0s - loss: 0.9012 - accuracy: 0.6678\n",
            "Epoch 69: saving model to model/keypoint_classifier/keypoint_classifier.hdf5\n",
            "47/47 [==============================] - 0s 2ms/step - loss: 0.9067 - accuracy: 0.6666 - val_loss: 0.4617 - val_accuracy: 0.8831\n",
            "Epoch 70/1000\n",
            "43/47 [==========================>...] - ETA: 0s - loss: 0.9121 - accuracy: 0.6724\n",
            "Epoch 70: saving model to model/keypoint_classifier/keypoint_classifier.hdf5\n",
            "47/47 [==============================] - 0s 2ms/step - loss: 0.9104 - accuracy: 0.6711 - val_loss: 0.4634 - val_accuracy: 0.8891\n",
            "Epoch 71/1000\n",
            "41/47 [=========================>....] - ETA: 0s - loss: 0.9103 - accuracy: 0.6700\n",
            "Epoch 71: saving model to model/keypoint_classifier/keypoint_classifier.hdf5\n",
            "47/47 [==============================] - 0s 2ms/step - loss: 0.9025 - accuracy: 0.6704 - val_loss: 0.4599 - val_accuracy: 0.8891\n",
            "Epoch 72/1000\n",
            "38/47 [=======================>......] - ETA: 0s - loss: 0.8810 - accuracy: 0.6760\n",
            "Epoch 72: saving model to model/keypoint_classifier/keypoint_classifier.hdf5\n",
            "47/47 [==============================] - 0s 2ms/step - loss: 0.8802 - accuracy: 0.6797 - val_loss: 0.4572 - val_accuracy: 0.8881\n",
            "Epoch 73/1000\n",
            "37/47 [======================>.......] - ETA: 0s - loss: 0.9007 - accuracy: 0.6759\n",
            "Epoch 73: saving model to model/keypoint_classifier/keypoint_classifier.hdf5\n",
            "47/47 [==============================] - 0s 2ms/step - loss: 0.9120 - accuracy: 0.6704 - val_loss: 0.4562 - val_accuracy: 0.8967\n",
            "Epoch 74/1000\n",
            "43/47 [==========================>...] - ETA: 0s - loss: 0.9104 - accuracy: 0.6721\n",
            "Epoch 74: saving model to model/keypoint_classifier/keypoint_classifier.hdf5\n",
            "47/47 [==============================] - 0s 2ms/step - loss: 0.9145 - accuracy: 0.6708 - val_loss: 0.4542 - val_accuracy: 0.8936\n",
            "Epoch 75/1000\n",
            "36/47 [=====================>........] - ETA: 0s - loss: 0.8926 - accuracy: 0.6797\n",
            "Epoch 75: saving model to model/keypoint_classifier/keypoint_classifier.hdf5\n",
            "47/47 [==============================] - 0s 2ms/step - loss: 0.8874 - accuracy: 0.6824 - val_loss: 0.4579 - val_accuracy: 0.8851\n",
            "Epoch 76/1000\n",
            "37/47 [======================>.......] - ETA: 0s - loss: 0.8837 - accuracy: 0.6831\n",
            "Epoch 76: saving model to model/keypoint_classifier/keypoint_classifier.hdf5\n",
            "47/47 [==============================] - 0s 2ms/step - loss: 0.8884 - accuracy: 0.6813 - val_loss: 0.4462 - val_accuracy: 0.9042\n",
            "Epoch 77/1000\n",
            "37/47 [======================>.......] - ETA: 0s - loss: 0.8811 - accuracy: 0.6759\n",
            "Epoch 77: saving model to model/keypoint_classifier/keypoint_classifier.hdf5\n",
            "47/47 [==============================] - 0s 2ms/step - loss: 0.8765 - accuracy: 0.6790 - val_loss: 0.4415 - val_accuracy: 0.9032\n",
            "Epoch 78/1000\n",
            "43/47 [==========================>...] - ETA: 0s - loss: 0.8771 - accuracy: 0.6888\n",
            "Epoch 78: saving model to model/keypoint_classifier/keypoint_classifier.hdf5\n",
            "47/47 [==============================] - 0s 2ms/step - loss: 0.8780 - accuracy: 0.6894 - val_loss: 0.4416 - val_accuracy: 0.8931\n",
            "Epoch 79/1000\n",
            "43/47 [==========================>...] - ETA: 0s - loss: 0.8767 - accuracy: 0.6828\n",
            "Epoch 79: saving model to model/keypoint_classifier/keypoint_classifier.hdf5\n",
            "47/47 [==============================] - 0s 2ms/step - loss: 0.8783 - accuracy: 0.6835 - val_loss: 0.4394 - val_accuracy: 0.8896\n",
            "Epoch 80/1000\n",
            "42/47 [=========================>....] - ETA: 0s - loss: 0.8698 - accuracy: 0.6868\n",
            "Epoch 80: saving model to model/keypoint_classifier/keypoint_classifier.hdf5\n",
            "47/47 [==============================] - 0s 2ms/step - loss: 0.8704 - accuracy: 0.6877 - val_loss: 0.4322 - val_accuracy: 0.9042\n",
            "Epoch 81/1000\n",
            "42/47 [=========================>....] - ETA: 0s - loss: 0.8720 - accuracy: 0.6882\n",
            "Epoch 81: saving model to model/keypoint_classifier/keypoint_classifier.hdf5\n",
            "47/47 [==============================] - 0s 2ms/step - loss: 0.8766 - accuracy: 0.6862 - val_loss: 0.4355 - val_accuracy: 0.8936\n",
            "Epoch 82/1000\n",
            "39/47 [=======================>......] - ETA: 0s - loss: 0.8817 - accuracy: 0.6727\n",
            "Epoch 82: saving model to model/keypoint_classifier/keypoint_classifier.hdf5\n",
            "47/47 [==============================] - 0s 3ms/step - loss: 0.8843 - accuracy: 0.6760 - val_loss: 0.4319 - val_accuracy: 0.9103\n",
            "Epoch 83/1000\n",
            "32/47 [===================>..........] - ETA: 0s - loss: 0.8848 - accuracy: 0.6838\n",
            "Epoch 83: saving model to model/keypoint_classifier/keypoint_classifier.hdf5\n",
            "47/47 [==============================] - 0s 2ms/step - loss: 0.8764 - accuracy: 0.6861 - val_loss: 0.4307 - val_accuracy: 0.9062\n",
            "Epoch 84/1000\n",
            "33/47 [====================>.........] - ETA: 0s - loss: 0.8674 - accuracy: 0.7000\n",
            "Epoch 84: saving model to model/keypoint_classifier/keypoint_classifier.hdf5\n",
            "47/47 [==============================] - 0s 2ms/step - loss: 0.8596 - accuracy: 0.7037 - val_loss: 0.4261 - val_accuracy: 0.9057\n",
            "Epoch 85/1000\n",
            "42/47 [=========================>....] - ETA: 0s - loss: 0.8910 - accuracy: 0.6758\n",
            "Epoch 85: saving model to model/keypoint_classifier/keypoint_classifier.hdf5\n",
            "47/47 [==============================] - 0s 2ms/step - loss: 0.8916 - accuracy: 0.6761 - val_loss: 0.4243 - val_accuracy: 0.9062\n",
            "Epoch 86/1000\n",
            "38/47 [=======================>......] - ETA: 0s - loss: 0.8564 - accuracy: 0.6914\n",
            "Epoch 86: saving model to model/keypoint_classifier/keypoint_classifier.hdf5\n",
            "47/47 [==============================] - 0s 2ms/step - loss: 0.8593 - accuracy: 0.6899 - val_loss: 0.4211 - val_accuracy: 0.9007\n",
            "Epoch 87/1000\n",
            "39/47 [=======================>......] - ETA: 0s - loss: 0.8749 - accuracy: 0.6801\n",
            "Epoch 87: saving model to model/keypoint_classifier/keypoint_classifier.hdf5\n",
            "47/47 [==============================] - 0s 2ms/step - loss: 0.8634 - accuracy: 0.6877 - val_loss: 0.4199 - val_accuracy: 0.9118\n",
            "Epoch 88/1000\n",
            "35/47 [=====================>........] - ETA: 0s - loss: 0.8526 - accuracy: 0.6951\n",
            "Epoch 88: saving model to model/keypoint_classifier/keypoint_classifier.hdf5\n",
            "47/47 [==============================] - 0s 3ms/step - loss: 0.8580 - accuracy: 0.6929 - val_loss: 0.4150 - val_accuracy: 0.9123\n",
            "Epoch 89/1000\n",
            "42/47 [=========================>....] - ETA: 0s - loss: 0.8624 - accuracy: 0.6871\n",
            "Epoch 89: saving model to model/keypoint_classifier/keypoint_classifier.hdf5\n",
            "47/47 [==============================] - 0s 2ms/step - loss: 0.8537 - accuracy: 0.6904 - val_loss: 0.4197 - val_accuracy: 0.9042\n",
            "Epoch 90/1000\n",
            "39/47 [=======================>......] - ETA: 0s - loss: 0.8523 - accuracy: 0.6973\n",
            "Epoch 90: saving model to model/keypoint_classifier/keypoint_classifier.hdf5\n",
            "47/47 [==============================] - 0s 2ms/step - loss: 0.8527 - accuracy: 0.6982 - val_loss: 0.4103 - val_accuracy: 0.9138\n",
            "Epoch 91/1000\n",
            "34/47 [====================>.........] - ETA: 0s - loss: 0.8342 - accuracy: 0.7047\n",
            "Epoch 91: saving model to model/keypoint_classifier/keypoint_classifier.hdf5\n",
            "47/47 [==============================] - 0s 3ms/step - loss: 0.8353 - accuracy: 0.7012 - val_loss: 0.4090 - val_accuracy: 0.9153\n",
            "Epoch 92/1000\n",
            "38/47 [=======================>......] - ETA: 0s - loss: 0.8566 - accuracy: 0.6959\n",
            "Epoch 92: saving model to model/keypoint_classifier/keypoint_classifier.hdf5\n",
            "47/47 [==============================] - 0s 3ms/step - loss: 0.8557 - accuracy: 0.6934 - val_loss: 0.4086 - val_accuracy: 0.9108\n",
            "Epoch 93/1000\n",
            "33/47 [====================>.........] - ETA: 0s - loss: 0.8865 - accuracy: 0.6937\n",
            "Epoch 93: saving model to model/keypoint_classifier/keypoint_classifier.hdf5\n",
            "47/47 [==============================] - 0s 3ms/step - loss: 0.8726 - accuracy: 0.6976 - val_loss: 0.4076 - val_accuracy: 0.9158\n",
            "Epoch 94/1000\n",
            "31/47 [==================>...........] - ETA: 0s - loss: 0.8615 - accuracy: 0.6862\n",
            "Epoch 94: saving model to model/keypoint_classifier/keypoint_classifier.hdf5\n",
            "47/47 [==============================] - 0s 3ms/step - loss: 0.8461 - accuracy: 0.6886 - val_loss: 0.4016 - val_accuracy: 0.9138\n",
            "Epoch 95/1000\n",
            "33/47 [====================>.........] - ETA: 0s - loss: 0.8799 - accuracy: 0.6811\n",
            "Epoch 95: saving model to model/keypoint_classifier/keypoint_classifier.hdf5\n",
            "47/47 [==============================] - 0s 3ms/step - loss: 0.8743 - accuracy: 0.6861 - val_loss: 0.4117 - val_accuracy: 0.9083\n",
            "Epoch 96/1000\n",
            "32/47 [===================>..........] - ETA: 0s - loss: 0.8502 - accuracy: 0.7009\n",
            "Epoch 96: saving model to model/keypoint_classifier/keypoint_classifier.hdf5\n",
            "47/47 [==============================] - 0s 3ms/step - loss: 0.8460 - accuracy: 0.7010 - val_loss: 0.3991 - val_accuracy: 0.9204\n",
            "Epoch 97/1000\n",
            "30/47 [==================>...........] - ETA: 0s - loss: 0.8480 - accuracy: 0.6956\n",
            "Epoch 97: saving model to model/keypoint_classifier/keypoint_classifier.hdf5\n",
            "47/47 [==============================] - 0s 3ms/step - loss: 0.8481 - accuracy: 0.6965 - val_loss: 0.4077 - val_accuracy: 0.9153\n",
            "Epoch 98/1000\n",
            "31/47 [==================>...........] - ETA: 0s - loss: 0.8572 - accuracy: 0.7001\n",
            "Epoch 98: saving model to model/keypoint_classifier/keypoint_classifier.hdf5\n",
            "47/47 [==============================] - 0s 2ms/step - loss: 0.8554 - accuracy: 0.6988 - val_loss: 0.4118 - val_accuracy: 0.9108\n",
            "Epoch 99/1000\n",
            "36/47 [=====================>........] - ETA: 0s - loss: 0.8668 - accuracy: 0.6879\n",
            "Epoch 99: saving model to model/keypoint_classifier/keypoint_classifier.hdf5\n",
            "47/47 [==============================] - 0s 2ms/step - loss: 0.8546 - accuracy: 0.6934 - val_loss: 0.4078 - val_accuracy: 0.9057\n",
            "Epoch 100/1000\n",
            "34/47 [====================>.........] - ETA: 0s - loss: 0.8554 - accuracy: 0.6988\n",
            "Epoch 100: saving model to model/keypoint_classifier/keypoint_classifier.hdf5\n",
            "47/47 [==============================] - 0s 3ms/step - loss: 0.8431 - accuracy: 0.7007 - val_loss: 0.3951 - val_accuracy: 0.9199\n",
            "Epoch 101/1000\n",
            "30/47 [==================>...........] - ETA: 0s - loss: 0.8459 - accuracy: 0.7070\n",
            "Epoch 101: saving model to model/keypoint_classifier/keypoint_classifier.hdf5\n",
            "47/47 [==============================] - 0s 3ms/step - loss: 0.8439 - accuracy: 0.7020 - val_loss: 0.4009 - val_accuracy: 0.9173\n",
            "Epoch 102/1000\n",
            "36/47 [=====================>........] - ETA: 0s - loss: 0.8634 - accuracy: 0.6910\n",
            "Epoch 102: saving model to model/keypoint_classifier/keypoint_classifier.hdf5\n",
            "47/47 [==============================] - 0s 2ms/step - loss: 0.8601 - accuracy: 0.6928 - val_loss: 0.4024 - val_accuracy: 0.9098\n",
            "Epoch 103/1000\n",
            "34/47 [====================>.........] - ETA: 0s - loss: 0.8505 - accuracy: 0.6949\n",
            "Epoch 103: saving model to model/keypoint_classifier/keypoint_classifier.hdf5\n",
            "47/47 [==============================] - 0s 2ms/step - loss: 0.8539 - accuracy: 0.6973 - val_loss: 0.3952 - val_accuracy: 0.9183\n",
            "Epoch 104/1000\n",
            "31/47 [==================>...........] - ETA: 0s - loss: 0.8437 - accuracy: 0.6951\n",
            "Epoch 104: saving model to model/keypoint_classifier/keypoint_classifier.hdf5\n",
            "47/47 [==============================] - 0s 3ms/step - loss: 0.8437 - accuracy: 0.6985 - val_loss: 0.3952 - val_accuracy: 0.9204\n",
            "Epoch 105/1000\n",
            "29/47 [=================>............] - ETA: 0s - loss: 0.8272 - accuracy: 0.7066\n",
            "Epoch 105: saving model to model/keypoint_classifier/keypoint_classifier.hdf5\n",
            "47/47 [==============================] - 0s 3ms/step - loss: 0.8284 - accuracy: 0.7057 - val_loss: 0.3868 - val_accuracy: 0.9254\n",
            "Epoch 106/1000\n",
            "34/47 [====================>.........] - ETA: 0s - loss: 0.8584 - accuracy: 0.6939\n",
            "Epoch 106: saving model to model/keypoint_classifier/keypoint_classifier.hdf5\n",
            "47/47 [==============================] - 0s 3ms/step - loss: 0.8657 - accuracy: 0.6961 - val_loss: 0.3946 - val_accuracy: 0.9189\n",
            "Epoch 107/1000\n",
            "33/47 [====================>.........] - ETA: 0s - loss: 0.8306 - accuracy: 0.7076\n",
            "Epoch 107: saving model to model/keypoint_classifier/keypoint_classifier.hdf5\n",
            "47/47 [==============================] - 0s 3ms/step - loss: 0.8314 - accuracy: 0.7049 - val_loss: 0.3934 - val_accuracy: 0.9173\n",
            "Epoch 108/1000\n",
            "29/47 [=================>............] - ETA: 0s - loss: 0.8411 - accuracy: 0.7039\n",
            "Epoch 108: saving model to model/keypoint_classifier/keypoint_classifier.hdf5\n",
            "47/47 [==============================] - 0s 3ms/step - loss: 0.8374 - accuracy: 0.7071 - val_loss: 0.3977 - val_accuracy: 0.9163\n",
            "Epoch 109/1000\n",
            "29/47 [=================>............] - ETA: 0s - loss: 0.8636 - accuracy: 0.6913\n",
            "Epoch 109: saving model to model/keypoint_classifier/keypoint_classifier.hdf5\n",
            "47/47 [==============================] - 0s 3ms/step - loss: 0.8590 - accuracy: 0.6941 - val_loss: 0.3927 - val_accuracy: 0.9219\n",
            "Epoch 110/1000\n",
            "28/47 [================>.............] - ETA: 0s - loss: 0.8429 - accuracy: 0.6975\n",
            "Epoch 110: saving model to model/keypoint_classifier/keypoint_classifier.hdf5\n",
            "47/47 [==============================] - 0s 3ms/step - loss: 0.8508 - accuracy: 0.7052 - val_loss: 0.3905 - val_accuracy: 0.9204\n",
            "Epoch 111/1000\n",
            "30/47 [==================>...........] - ETA: 0s - loss: 0.8527 - accuracy: 0.6883\n",
            "Epoch 111: saving model to model/keypoint_classifier/keypoint_classifier.hdf5\n",
            "47/47 [==============================] - 0s 3ms/step - loss: 0.8371 - accuracy: 0.6948 - val_loss: 0.3872 - val_accuracy: 0.9209\n",
            "Epoch 112/1000\n",
            "27/47 [================>.............] - ETA: 0s - loss: 0.8168 - accuracy: 0.7095\n",
            "Epoch 112: saving model to model/keypoint_classifier/keypoint_classifier.hdf5\n",
            "47/47 [==============================] - 0s 3ms/step - loss: 0.8144 - accuracy: 0.7066 - val_loss: 0.3750 - val_accuracy: 0.9244\n",
            "Epoch 113/1000\n",
            "32/47 [===================>..........] - ETA: 0s - loss: 0.8378 - accuracy: 0.7021\n",
            "Epoch 113: saving model to model/keypoint_classifier/keypoint_classifier.hdf5\n",
            "47/47 [==============================] - 0s 3ms/step - loss: 0.8475 - accuracy: 0.7018 - val_loss: 0.3846 - val_accuracy: 0.9194\n",
            "Epoch 114/1000\n",
            "27/47 [================>.............] - ETA: 0s - loss: 0.8646 - accuracy: 0.6939\n",
            "Epoch 114: saving model to model/keypoint_classifier/keypoint_classifier.hdf5\n",
            "47/47 [==============================] - 0s 3ms/step - loss: 0.8551 - accuracy: 0.6946 - val_loss: 0.3953 - val_accuracy: 0.9128\n",
            "Epoch 115/1000\n",
            "32/47 [===================>..........] - ETA: 0s - loss: 0.8564 - accuracy: 0.6912\n",
            "Epoch 115: saving model to model/keypoint_classifier/keypoint_classifier.hdf5\n",
            "47/47 [==============================] - 0s 3ms/step - loss: 0.8550 - accuracy: 0.6889 - val_loss: 0.3906 - val_accuracy: 0.9173\n",
            "Epoch 116/1000\n",
            "28/47 [================>.............] - ETA: 0s - loss: 0.8409 - accuracy: 0.7098\n",
            "Epoch 116: saving model to model/keypoint_classifier/keypoint_classifier.hdf5\n",
            "47/47 [==============================] - 0s 3ms/step - loss: 0.8519 - accuracy: 0.7035 - val_loss: 0.3826 - val_accuracy: 0.9239\n",
            "Epoch 117/1000\n",
            "40/47 [========================>.....] - ETA: 0s - loss: 0.8201 - accuracy: 0.7090\n",
            "Epoch 117: saving model to model/keypoint_classifier/keypoint_classifier.hdf5\n",
            "47/47 [==============================] - 0s 2ms/step - loss: 0.8204 - accuracy: 0.7097 - val_loss: 0.3785 - val_accuracy: 0.9214\n",
            "Epoch 118/1000\n",
            "39/47 [=======================>......] - ETA: 0s - loss: 0.8275 - accuracy: 0.6989\n",
            "Epoch 118: saving model to model/keypoint_classifier/keypoint_classifier.hdf5\n",
            "47/47 [==============================] - 0s 2ms/step - loss: 0.8309 - accuracy: 0.7012 - val_loss: 0.3788 - val_accuracy: 0.9183\n",
            "Epoch 119/1000\n",
            "26/47 [===============>..............] - ETA: 0s - loss: 0.8232 - accuracy: 0.7034\n",
            "Epoch 119: saving model to model/keypoint_classifier/keypoint_classifier.hdf5\n",
            "47/47 [==============================] - 0s 3ms/step - loss: 0.8246 - accuracy: 0.7035 - val_loss: 0.3802 - val_accuracy: 0.9183\n",
            "Epoch 120/1000\n",
            "35/47 [=====================>........] - ETA: 0s - loss: 0.8299 - accuracy: 0.7056\n",
            "Epoch 120: saving model to model/keypoint_classifier/keypoint_classifier.hdf5\n",
            "47/47 [==============================] - 0s 3ms/step - loss: 0.8285 - accuracy: 0.7054 - val_loss: 0.3714 - val_accuracy: 0.9269\n",
            "Epoch 121/1000\n",
            "44/47 [===========================>..] - ETA: 0s - loss: 0.8166 - accuracy: 0.7116\n",
            "Epoch 121: saving model to model/keypoint_classifier/keypoint_classifier.hdf5\n",
            "47/47 [==============================] - 0s 2ms/step - loss: 0.8109 - accuracy: 0.7131 - val_loss: 0.3746 - val_accuracy: 0.9224\n",
            "Epoch 122/1000\n",
            "35/47 [=====================>........] - ETA: 0s - loss: 0.8187 - accuracy: 0.7056\n",
            "Epoch 122: saving model to model/keypoint_classifier/keypoint_classifier.hdf5\n",
            "47/47 [==============================] - 0s 3ms/step - loss: 0.8421 - accuracy: 0.6997 - val_loss: 0.3810 - val_accuracy: 0.9168\n",
            "Epoch 123/1000\n",
            "38/47 [=======================>......] - ETA: 0s - loss: 0.8266 - accuracy: 0.7097\n",
            "Epoch 123: saving model to model/keypoint_classifier/keypoint_classifier.hdf5\n",
            "47/47 [==============================] - 0s 2ms/step - loss: 0.8269 - accuracy: 0.7104 - val_loss: 0.3797 - val_accuracy: 0.9153\n",
            "Epoch 124/1000\n",
            "37/47 [======================>.......] - ETA: 0s - loss: 0.8354 - accuracy: 0.7033\n",
            "Epoch 124: saving model to model/keypoint_classifier/keypoint_classifier.hdf5\n",
            "47/47 [==============================] - 0s 3ms/step - loss: 0.8375 - accuracy: 0.7054 - val_loss: 0.3702 - val_accuracy: 0.9219\n",
            "Epoch 125/1000\n",
            "36/47 [=====================>........] - ETA: 0s - loss: 0.8395 - accuracy: 0.7033\n",
            "Epoch 125: saving model to model/keypoint_classifier/keypoint_classifier.hdf5\n",
            "47/47 [==============================] - 0s 2ms/step - loss: 0.8359 - accuracy: 0.7042 - val_loss: 0.3745 - val_accuracy: 0.9189\n",
            "Epoch 126/1000\n",
            "38/47 [=======================>......] - ETA: 0s - loss: 0.8357 - accuracy: 0.7062\n",
            "Epoch 126: saving model to model/keypoint_classifier/keypoint_classifier.hdf5\n",
            "47/47 [==============================] - 0s 2ms/step - loss: 0.8280 - accuracy: 0.7101 - val_loss: 0.3761 - val_accuracy: 0.9239\n",
            "Epoch 127/1000\n",
            "40/47 [========================>.....] - ETA: 0s - loss: 0.8239 - accuracy: 0.7051\n",
            "Epoch 127: saving model to model/keypoint_classifier/keypoint_classifier.hdf5\n",
            "47/47 [==============================] - 0s 3ms/step - loss: 0.8273 - accuracy: 0.7024 - val_loss: 0.3721 - val_accuracy: 0.9254\n",
            "Epoch 128/1000\n",
            "43/47 [==========================>...] - ETA: 0s - loss: 0.8159 - accuracy: 0.7113\n",
            "Epoch 128: saving model to model/keypoint_classifier/keypoint_classifier.hdf5\n",
            "47/47 [==============================] - 0s 2ms/step - loss: 0.8129 - accuracy: 0.7138 - val_loss: 0.3766 - val_accuracy: 0.9209\n",
            "Epoch 129/1000\n",
            "38/47 [=======================>......] - ETA: 0s - loss: 0.8221 - accuracy: 0.7093\n",
            "Epoch 129: saving model to model/keypoint_classifier/keypoint_classifier.hdf5\n",
            "47/47 [==============================] - 0s 2ms/step - loss: 0.8145 - accuracy: 0.7096 - val_loss: 0.3673 - val_accuracy: 0.9274\n",
            "Epoch 130/1000\n",
            "35/47 [=====================>........] - ETA: 0s - loss: 0.8090 - accuracy: 0.7150\n",
            "Epoch 130: saving model to model/keypoint_classifier/keypoint_classifier.hdf5\n",
            "47/47 [==============================] - 0s 2ms/step - loss: 0.8119 - accuracy: 0.7161 - val_loss: 0.3684 - val_accuracy: 0.9259\n",
            "Epoch 131/1000\n",
            "35/47 [=====================>........] - ETA: 0s - loss: 0.7912 - accuracy: 0.7154\n",
            "Epoch 131: saving model to model/keypoint_classifier/keypoint_classifier.hdf5\n",
            "47/47 [==============================] - 0s 3ms/step - loss: 0.7969 - accuracy: 0.7171 - val_loss: 0.3637 - val_accuracy: 0.9239\n",
            "Epoch 132/1000\n",
            "37/47 [======================>.......] - ETA: 0s - loss: 0.8219 - accuracy: 0.7069\n",
            "Epoch 132: saving model to model/keypoint_classifier/keypoint_classifier.hdf5\n",
            "47/47 [==============================] - 0s 3ms/step - loss: 0.8191 - accuracy: 0.7104 - val_loss: 0.3644 - val_accuracy: 0.9294\n",
            "Epoch 133/1000\n",
            "34/47 [====================>.........] - ETA: 0s - loss: 0.8174 - accuracy: 0.7135\n",
            "Epoch 133: saving model to model/keypoint_classifier/keypoint_classifier.hdf5\n",
            "47/47 [==============================] - 0s 3ms/step - loss: 0.8137 - accuracy: 0.7146 - val_loss: 0.3683 - val_accuracy: 0.9269\n",
            "Epoch 134/1000\n",
            "38/47 [=======================>......] - ETA: 0s - loss: 0.8202 - accuracy: 0.7091\n",
            "Epoch 134: saving model to model/keypoint_classifier/keypoint_classifier.hdf5\n",
            "47/47 [==============================] - 0s 2ms/step - loss: 0.8181 - accuracy: 0.7113 - val_loss: 0.3672 - val_accuracy: 0.9254\n",
            "Epoch 135/1000\n",
            "33/47 [====================>.........] - ETA: 0s - loss: 0.8106 - accuracy: 0.7100\n",
            "Epoch 135: saving model to model/keypoint_classifier/keypoint_classifier.hdf5\n",
            "47/47 [==============================] - 0s 3ms/step - loss: 0.8040 - accuracy: 0.7123 - val_loss: 0.3641 - val_accuracy: 0.9209\n",
            "Epoch 136/1000\n",
            "38/47 [=======================>......] - ETA: 0s - loss: 0.8065 - accuracy: 0.7157\n",
            "Epoch 136: saving model to model/keypoint_classifier/keypoint_classifier.hdf5\n",
            "47/47 [==============================] - 0s 2ms/step - loss: 0.7972 - accuracy: 0.7165 - val_loss: 0.3622 - val_accuracy: 0.9254\n",
            "Epoch 137/1000\n",
            "36/47 [=====================>........] - ETA: 0s - loss: 0.7875 - accuracy: 0.7181\n",
            "Epoch 137: saving model to model/keypoint_classifier/keypoint_classifier.hdf5\n",
            "47/47 [==============================] - 0s 2ms/step - loss: 0.7861 - accuracy: 0.7180 - val_loss: 0.3603 - val_accuracy: 0.9194\n",
            "Epoch 138/1000\n",
            "37/47 [======================>.......] - ETA: 0s - loss: 0.7863 - accuracy: 0.7213\n",
            "Epoch 138: saving model to model/keypoint_classifier/keypoint_classifier.hdf5\n",
            "47/47 [==============================] - 0s 2ms/step - loss: 0.7934 - accuracy: 0.7183 - val_loss: 0.3682 - val_accuracy: 0.9173\n",
            "Epoch 139/1000\n",
            "38/47 [=======================>......] - ETA: 0s - loss: 0.8044 - accuracy: 0.7171\n",
            "Epoch 139: saving model to model/keypoint_classifier/keypoint_classifier.hdf5\n",
            "47/47 [==============================] - 0s 2ms/step - loss: 0.8032 - accuracy: 0.7163 - val_loss: 0.3603 - val_accuracy: 0.9289\n",
            "Epoch 140/1000\n",
            "41/47 [=========================>....] - ETA: 0s - loss: 0.8196 - accuracy: 0.7107\n",
            "Epoch 140: saving model to model/keypoint_classifier/keypoint_classifier.hdf5\n",
            "47/47 [==============================] - 0s 3ms/step - loss: 0.8183 - accuracy: 0.7118 - val_loss: 0.3687 - val_accuracy: 0.9173\n",
            "Epoch 141/1000\n",
            "38/47 [=======================>......] - ETA: 0s - loss: 0.8090 - accuracy: 0.7124\n",
            "Epoch 141: saving model to model/keypoint_classifier/keypoint_classifier.hdf5\n",
            "47/47 [==============================] - 0s 2ms/step - loss: 0.8050 - accuracy: 0.7119 - val_loss: 0.3618 - val_accuracy: 0.9289\n",
            "Epoch 142/1000\n",
            "38/47 [=======================>......] - ETA: 0s - loss: 0.7857 - accuracy: 0.7270\n",
            "Epoch 142: saving model to model/keypoint_classifier/keypoint_classifier.hdf5\n",
            "47/47 [==============================] - 0s 2ms/step - loss: 0.7949 - accuracy: 0.7239 - val_loss: 0.3581 - val_accuracy: 0.9239\n",
            "Epoch 143/1000\n",
            "35/47 [=====================>........] - ETA: 0s - loss: 0.7991 - accuracy: 0.7185\n",
            "Epoch 143: saving model to model/keypoint_classifier/keypoint_classifier.hdf5\n",
            "47/47 [==============================] - 0s 3ms/step - loss: 0.8069 - accuracy: 0.7158 - val_loss: 0.3655 - val_accuracy: 0.9269\n",
            "Epoch 144/1000\n",
            "37/47 [======================>.......] - ETA: 0s - loss: 0.7892 - accuracy: 0.7124\n",
            "Epoch 144: saving model to model/keypoint_classifier/keypoint_classifier.hdf5\n",
            "47/47 [==============================] - 0s 2ms/step - loss: 0.8031 - accuracy: 0.7099 - val_loss: 0.3580 - val_accuracy: 0.9249\n",
            "Epoch 145/1000\n",
            "37/47 [======================>.......] - ETA: 0s - loss: 0.8050 - accuracy: 0.7130\n",
            "Epoch 145: saving model to model/keypoint_classifier/keypoint_classifier.hdf5\n",
            "47/47 [==============================] - 0s 3ms/step - loss: 0.8020 - accuracy: 0.7155 - val_loss: 0.3526 - val_accuracy: 0.9299\n",
            "Epoch 146/1000\n",
            "43/47 [==========================>...] - ETA: 0s - loss: 0.8013 - accuracy: 0.7247\n",
            "Epoch 146: saving model to model/keypoint_classifier/keypoint_classifier.hdf5\n",
            "47/47 [==============================] - 0s 2ms/step - loss: 0.8015 - accuracy: 0.7234 - val_loss: 0.3599 - val_accuracy: 0.9204\n",
            "Epoch 147/1000\n",
            "32/47 [===================>..........] - ETA: 0s - loss: 0.7987 - accuracy: 0.7244\n",
            "Epoch 147: saving model to model/keypoint_classifier/keypoint_classifier.hdf5\n",
            "47/47 [==============================] - 0s 3ms/step - loss: 0.7995 - accuracy: 0.7234 - val_loss: 0.3614 - val_accuracy: 0.9199\n",
            "Epoch 148/1000\n",
            "39/47 [=======================>......] - ETA: 0s - loss: 0.7807 - accuracy: 0.7210\n",
            "Epoch 148: saving model to model/keypoint_classifier/keypoint_classifier.hdf5\n",
            "47/47 [==============================] - 0s 2ms/step - loss: 0.7912 - accuracy: 0.7193 - val_loss: 0.3502 - val_accuracy: 0.9284\n",
            "Epoch 149/1000\n",
            "45/47 [===========================>..] - ETA: 0s - loss: 0.7945 - accuracy: 0.7087\n",
            "Epoch 149: saving model to model/keypoint_classifier/keypoint_classifier.hdf5\n",
            "47/47 [==============================] - 0s 2ms/step - loss: 0.7992 - accuracy: 0.7087 - val_loss: 0.3522 - val_accuracy: 0.9229\n",
            "Epoch 150/1000\n",
            "42/47 [=========================>....] - ETA: 0s - loss: 0.7640 - accuracy: 0.7407\n",
            "Epoch 150: saving model to model/keypoint_classifier/keypoint_classifier.hdf5\n",
            "47/47 [==============================] - 0s 2ms/step - loss: 0.7688 - accuracy: 0.7390 - val_loss: 0.3521 - val_accuracy: 0.9249\n",
            "Epoch 151/1000\n",
            "38/47 [=======================>......] - ETA: 0s - loss: 0.8220 - accuracy: 0.7118\n",
            "Epoch 151: saving model to model/keypoint_classifier/keypoint_classifier.hdf5\n",
            "47/47 [==============================] - 0s 2ms/step - loss: 0.8201 - accuracy: 0.7099 - val_loss: 0.3524 - val_accuracy: 0.9269\n",
            "Epoch 152/1000\n",
            "45/47 [===========================>..] - ETA: 0s - loss: 0.7883 - accuracy: 0.7267\n",
            "Epoch 152: saving model to model/keypoint_classifier/keypoint_classifier.hdf5\n",
            "47/47 [==============================] - 0s 2ms/step - loss: 0.7893 - accuracy: 0.7262 - val_loss: 0.3563 - val_accuracy: 0.9249\n",
            "Epoch 153/1000\n",
            "44/47 [===========================>..] - ETA: 0s - loss: 0.7711 - accuracy: 0.7278\n",
            "Epoch 153: saving model to model/keypoint_classifier/keypoint_classifier.hdf5\n",
            "47/47 [==============================] - 0s 2ms/step - loss: 0.7728 - accuracy: 0.7272 - val_loss: 0.3514 - val_accuracy: 0.9254\n",
            "Epoch 154/1000\n",
            "38/47 [=======================>......] - ETA: 0s - loss: 0.7937 - accuracy: 0.7245\n",
            "Epoch 154: saving model to model/keypoint_classifier/keypoint_classifier.hdf5\n",
            "47/47 [==============================] - 0s 2ms/step - loss: 0.7935 - accuracy: 0.7234 - val_loss: 0.3546 - val_accuracy: 0.9239\n",
            "Epoch 155/1000\n",
            "38/47 [=======================>......] - ETA: 0s - loss: 0.8008 - accuracy: 0.7126\n",
            "Epoch 155: saving model to model/keypoint_classifier/keypoint_classifier.hdf5\n",
            "47/47 [==============================] - 0s 2ms/step - loss: 0.7964 - accuracy: 0.7138 - val_loss: 0.3536 - val_accuracy: 0.9234\n",
            "Epoch 156/1000\n",
            "45/47 [===========================>..] - ETA: 0s - loss: 0.7978 - accuracy: 0.7127\n",
            "Epoch 156: saving model to model/keypoint_classifier/keypoint_classifier.hdf5\n",
            "47/47 [==============================] - 0s 2ms/step - loss: 0.7988 - accuracy: 0.7113 - val_loss: 0.3560 - val_accuracy: 0.9289\n",
            "Epoch 157/1000\n",
            "42/47 [=========================>....] - ETA: 0s - loss: 0.7708 - accuracy: 0.7256\n",
            "Epoch 157: saving model to model/keypoint_classifier/keypoint_classifier.hdf5\n",
            "47/47 [==============================] - 0s 2ms/step - loss: 0.7723 - accuracy: 0.7250 - val_loss: 0.3484 - val_accuracy: 0.9309\n",
            "Epoch 158/1000\n",
            "40/47 [========================>.....] - ETA: 0s - loss: 0.7939 - accuracy: 0.7238\n",
            "Epoch 158: saving model to model/keypoint_classifier/keypoint_classifier.hdf5\n",
            "47/47 [==============================] - 0s 2ms/step - loss: 0.7906 - accuracy: 0.7255 - val_loss: 0.3523 - val_accuracy: 0.9249\n",
            "Epoch 159/1000\n",
            "40/47 [========================>.....] - ETA: 0s - loss: 0.7988 - accuracy: 0.7256\n",
            "Epoch 159: saving model to model/keypoint_classifier/keypoint_classifier.hdf5\n",
            "47/47 [==============================] - 0s 2ms/step - loss: 0.8012 - accuracy: 0.7239 - val_loss: 0.3554 - val_accuracy: 0.9239\n",
            "Epoch 160/1000\n",
            "38/47 [=======================>......] - ETA: 0s - loss: 0.7933 - accuracy: 0.7243\n",
            "Epoch 160: saving model to model/keypoint_classifier/keypoint_classifier.hdf5\n",
            "47/47 [==============================] - 0s 2ms/step - loss: 0.7925 - accuracy: 0.7240 - val_loss: 0.3471 - val_accuracy: 0.9269\n",
            "Epoch 161/1000\n",
            "41/47 [=========================>....] - ETA: 0s - loss: 0.7926 - accuracy: 0.7239\n",
            "Epoch 161: saving model to model/keypoint_classifier/keypoint_classifier.hdf5\n",
            "47/47 [==============================] - 0s 2ms/step - loss: 0.7858 - accuracy: 0.7249 - val_loss: 0.3425 - val_accuracy: 0.9299\n",
            "Epoch 162/1000\n",
            "41/47 [=========================>....] - ETA: 0s - loss: 0.7899 - accuracy: 0.7191\n",
            "Epoch 162: saving model to model/keypoint_classifier/keypoint_classifier.hdf5\n",
            "47/47 [==============================] - 0s 2ms/step - loss: 0.7947 - accuracy: 0.7188 - val_loss: 0.3466 - val_accuracy: 0.9199\n",
            "Epoch 163/1000\n",
            "41/47 [=========================>....] - ETA: 0s - loss: 0.7853 - accuracy: 0.7224\n",
            "Epoch 163: saving model to model/keypoint_classifier/keypoint_classifier.hdf5\n",
            "47/47 [==============================] - 0s 2ms/step - loss: 0.7866 - accuracy: 0.7203 - val_loss: 0.3430 - val_accuracy: 0.9264\n",
            "Epoch 164/1000\n",
            "40/47 [========================>.....] - ETA: 0s - loss: 0.8190 - accuracy: 0.7145\n",
            "Epoch 164: saving model to model/keypoint_classifier/keypoint_classifier.hdf5\n",
            "47/47 [==============================] - 0s 2ms/step - loss: 0.8120 - accuracy: 0.7150 - val_loss: 0.3415 - val_accuracy: 0.9340\n",
            "Epoch 165/1000\n",
            "40/47 [========================>.....] - ETA: 0s - loss: 0.7845 - accuracy: 0.7217\n",
            "Epoch 165: saving model to model/keypoint_classifier/keypoint_classifier.hdf5\n",
            "47/47 [==============================] - 0s 2ms/step - loss: 0.7881 - accuracy: 0.7178 - val_loss: 0.3478 - val_accuracy: 0.9304\n",
            "Epoch 166/1000\n",
            "39/47 [=======================>......] - ETA: 0s - loss: 0.7912 - accuracy: 0.7206\n",
            "Epoch 166: saving model to model/keypoint_classifier/keypoint_classifier.hdf5\n",
            "47/47 [==============================] - 0s 2ms/step - loss: 0.7790 - accuracy: 0.7272 - val_loss: 0.3480 - val_accuracy: 0.9284\n",
            "Epoch 167/1000\n",
            "40/47 [========================>.....] - ETA: 0s - loss: 0.7861 - accuracy: 0.7211\n",
            "Epoch 167: saving model to model/keypoint_classifier/keypoint_classifier.hdf5\n",
            "47/47 [==============================] - 0s 2ms/step - loss: 0.7860 - accuracy: 0.7220 - val_loss: 0.3528 - val_accuracy: 0.9264\n",
            "Epoch 168/1000\n",
            "38/47 [=======================>......] - ETA: 0s - loss: 0.7716 - accuracy: 0.7377\n",
            "Epoch 168: saving model to model/keypoint_classifier/keypoint_classifier.hdf5\n",
            "47/47 [==============================] - 0s 2ms/step - loss: 0.7750 - accuracy: 0.7361 - val_loss: 0.3379 - val_accuracy: 0.9330\n",
            "Epoch 169/1000\n",
            "40/47 [========================>.....] - ETA: 0s - loss: 0.7794 - accuracy: 0.7307\n",
            "Epoch 169: saving model to model/keypoint_classifier/keypoint_classifier.hdf5\n",
            "47/47 [==============================] - 0s 2ms/step - loss: 0.7830 - accuracy: 0.7287 - val_loss: 0.3474 - val_accuracy: 0.9249\n",
            "Epoch 170/1000\n",
            "35/47 [=====================>........] - ETA: 0s - loss: 0.7931 - accuracy: 0.7335\n",
            "Epoch 170: saving model to model/keypoint_classifier/keypoint_classifier.hdf5\n",
            "47/47 [==============================] - 0s 3ms/step - loss: 0.7800 - accuracy: 0.7343 - val_loss: 0.3453 - val_accuracy: 0.9284\n",
            "Epoch 171/1000\n",
            "44/47 [===========================>..] - ETA: 0s - loss: 0.7892 - accuracy: 0.7214\n",
            "Epoch 171: saving model to model/keypoint_classifier/keypoint_classifier.hdf5\n",
            "47/47 [==============================] - 0s 2ms/step - loss: 0.7924 - accuracy: 0.7205 - val_loss: 0.3348 - val_accuracy: 0.9330\n",
            "Epoch 172/1000\n",
            "40/47 [========================>.....] - ETA: 0s - loss: 0.7747 - accuracy: 0.7285\n",
            "Epoch 172: saving model to model/keypoint_classifier/keypoint_classifier.hdf5\n",
            "47/47 [==============================] - 0s 2ms/step - loss: 0.7753 - accuracy: 0.7287 - val_loss: 0.3382 - val_accuracy: 0.9320\n",
            "Epoch 173/1000\n",
            "41/47 [=========================>....] - ETA: 0s - loss: 0.7857 - accuracy: 0.7266\n",
            "Epoch 173: saving model to model/keypoint_classifier/keypoint_classifier.hdf5\n",
            "47/47 [==============================] - 0s 2ms/step - loss: 0.7909 - accuracy: 0.7249 - val_loss: 0.3388 - val_accuracy: 0.9325\n",
            "Epoch 174/1000\n",
            "40/47 [========================>.....] - ETA: 0s - loss: 0.7621 - accuracy: 0.7299\n",
            "Epoch 174: saving model to model/keypoint_classifier/keypoint_classifier.hdf5\n",
            "47/47 [==============================] - 0s 2ms/step - loss: 0.7594 - accuracy: 0.7301 - val_loss: 0.3426 - val_accuracy: 0.9299\n",
            "Epoch 175/1000\n",
            "40/47 [========================>.....] - ETA: 0s - loss: 0.7697 - accuracy: 0.7332\n",
            "Epoch 175: saving model to model/keypoint_classifier/keypoint_classifier.hdf5\n",
            "47/47 [==============================] - 0s 2ms/step - loss: 0.7707 - accuracy: 0.7326 - val_loss: 0.3389 - val_accuracy: 0.9309\n",
            "Epoch 176/1000\n",
            "24/47 [==============>...............] - ETA: 0s - loss: 0.7571 - accuracy: 0.7367\n",
            "Epoch 176: saving model to model/keypoint_classifier/keypoint_classifier.hdf5\n",
            "47/47 [==============================] - 0s 3ms/step - loss: 0.7677 - accuracy: 0.7304 - val_loss: 0.3385 - val_accuracy: 0.9315\n",
            "Epoch 177/1000\n",
            "42/47 [=========================>....] - ETA: 0s - loss: 0.7674 - accuracy: 0.7344\n",
            "Epoch 177: saving model to model/keypoint_classifier/keypoint_classifier.hdf5\n",
            "47/47 [==============================] - 0s 2ms/step - loss: 0.7630 - accuracy: 0.7353 - val_loss: 0.3346 - val_accuracy: 0.9340\n",
            "Epoch 178/1000\n",
            "31/47 [==================>...........] - ETA: 0s - loss: 0.7762 - accuracy: 0.7245\n",
            "Epoch 178: saving model to model/keypoint_classifier/keypoint_classifier.hdf5\n",
            "47/47 [==============================] - 0s 3ms/step - loss: 0.7750 - accuracy: 0.7289 - val_loss: 0.3426 - val_accuracy: 0.9214\n",
            "Epoch 179/1000\n",
            "36/47 [=====================>........] - ETA: 0s - loss: 0.7904 - accuracy: 0.7287\n",
            "Epoch 179: saving model to model/keypoint_classifier/keypoint_classifier.hdf5\n",
            "47/47 [==============================] - 0s 3ms/step - loss: 0.7869 - accuracy: 0.7301 - val_loss: 0.3475 - val_accuracy: 0.9234\n",
            "Epoch 180/1000\n",
            "38/47 [=======================>......] - ETA: 0s - loss: 0.7701 - accuracy: 0.7284\n",
            "Epoch 180: saving model to model/keypoint_classifier/keypoint_classifier.hdf5\n",
            "47/47 [==============================] - 0s 2ms/step - loss: 0.7631 - accuracy: 0.7318 - val_loss: 0.3385 - val_accuracy: 0.9279\n",
            "Epoch 181/1000\n",
            "37/47 [======================>.......] - ETA: 0s - loss: 0.7577 - accuracy: 0.7350\n",
            "Epoch 181: saving model to model/keypoint_classifier/keypoint_classifier.hdf5\n",
            "47/47 [==============================] - 0s 3ms/step - loss: 0.7560 - accuracy: 0.7378 - val_loss: 0.3433 - val_accuracy: 0.9234\n",
            "Epoch 182/1000\n",
            "31/47 [==================>...........] - ETA: 0s - loss: 0.7548 - accuracy: 0.7308\n",
            "Epoch 182: saving model to model/keypoint_classifier/keypoint_classifier.hdf5\n",
            "47/47 [==============================] - 0s 3ms/step - loss: 0.7681 - accuracy: 0.7272 - val_loss: 0.3367 - val_accuracy: 0.9299\n",
            "Epoch 183/1000\n",
            "40/47 [========================>.....] - ETA: 0s - loss: 0.7531 - accuracy: 0.7410\n",
            "Epoch 183: saving model to model/keypoint_classifier/keypoint_classifier.hdf5\n",
            "47/47 [==============================] - 0s 2ms/step - loss: 0.7529 - accuracy: 0.7427 - val_loss: 0.3411 - val_accuracy: 0.9264\n",
            "Epoch 184/1000\n",
            "39/47 [=======================>......] - ETA: 0s - loss: 0.7367 - accuracy: 0.7444\n",
            "Epoch 184: saving model to model/keypoint_classifier/keypoint_classifier.hdf5\n",
            "47/47 [==============================] - 0s 2ms/step - loss: 0.7448 - accuracy: 0.7405 - val_loss: 0.3300 - val_accuracy: 0.9385\n",
            "Epoch 185/1000\n",
            "43/47 [==========================>...] - ETA: 0s - loss: 0.7689 - accuracy: 0.7342\n",
            "Epoch 185: saving model to model/keypoint_classifier/keypoint_classifier.hdf5\n",
            "47/47 [==============================] - 0s 2ms/step - loss: 0.7639 - accuracy: 0.7339 - val_loss: 0.3390 - val_accuracy: 0.9299\n",
            "Epoch 186/1000\n",
            "40/47 [========================>.....] - ETA: 0s - loss: 0.7449 - accuracy: 0.7445\n",
            "Epoch 186: saving model to model/keypoint_classifier/keypoint_classifier.hdf5\n",
            "47/47 [==============================] - 0s 2ms/step - loss: 0.7522 - accuracy: 0.7407 - val_loss: 0.3320 - val_accuracy: 0.9400\n",
            "Epoch 187/1000\n",
            "45/47 [===========================>..] - ETA: 0s - loss: 0.7787 - accuracy: 0.7201\n",
            "Epoch 187: saving model to model/keypoint_classifier/keypoint_classifier.hdf5\n",
            "47/47 [==============================] - 0s 2ms/step - loss: 0.7763 - accuracy: 0.7217 - val_loss: 0.3259 - val_accuracy: 0.9420\n",
            "Epoch 188/1000\n",
            "40/47 [========================>.....] - ETA: 0s - loss: 0.7594 - accuracy: 0.7373\n",
            "Epoch 188: saving model to model/keypoint_classifier/keypoint_classifier.hdf5\n",
            "47/47 [==============================] - 0s 2ms/step - loss: 0.7677 - accuracy: 0.7358 - val_loss: 0.3328 - val_accuracy: 0.9360\n",
            "Epoch 189/1000\n",
            "40/47 [========================>.....] - ETA: 0s - loss: 0.7737 - accuracy: 0.7309\n",
            "Epoch 189: saving model to model/keypoint_classifier/keypoint_classifier.hdf5\n",
            "47/47 [==============================] - 0s 2ms/step - loss: 0.7754 - accuracy: 0.7313 - val_loss: 0.3346 - val_accuracy: 0.9335\n",
            "Epoch 190/1000\n",
            "42/47 [=========================>....] - ETA: 0s - loss: 0.7654 - accuracy: 0.7342\n",
            "Epoch 190: saving model to model/keypoint_classifier/keypoint_classifier.hdf5\n",
            "47/47 [==============================] - 0s 2ms/step - loss: 0.7723 - accuracy: 0.7326 - val_loss: 0.3323 - val_accuracy: 0.9289\n",
            "Epoch 191/1000\n",
            "37/47 [======================>.......] - ETA: 0s - loss: 0.7609 - accuracy: 0.7295\n",
            "Epoch 191: saving model to model/keypoint_classifier/keypoint_classifier.hdf5\n",
            "47/47 [==============================] - 0s 3ms/step - loss: 0.7651 - accuracy: 0.7289 - val_loss: 0.3336 - val_accuracy: 0.9304\n",
            "Epoch 192/1000\n",
            "40/47 [========================>.....] - ETA: 0s - loss: 0.7675 - accuracy: 0.7369\n",
            "Epoch 192: saving model to model/keypoint_classifier/keypoint_classifier.hdf5\n",
            "47/47 [==============================] - 0s 2ms/step - loss: 0.7683 - accuracy: 0.7358 - val_loss: 0.3348 - val_accuracy: 0.9340\n",
            "Epoch 193/1000\n",
            "36/47 [=====================>........] - ETA: 0s - loss: 0.7653 - accuracy: 0.7359\n",
            "Epoch 193: saving model to model/keypoint_classifier/keypoint_classifier.hdf5\n",
            "47/47 [==============================] - 0s 2ms/step - loss: 0.7644 - accuracy: 0.7393 - val_loss: 0.3348 - val_accuracy: 0.9304\n",
            "Epoch 194/1000\n",
            "43/47 [==========================>...] - ETA: 0s - loss: 0.7662 - accuracy: 0.7366\n",
            "Epoch 194: saving model to model/keypoint_classifier/keypoint_classifier.hdf5\n",
            "47/47 [==============================] - 0s 2ms/step - loss: 0.7613 - accuracy: 0.7375 - val_loss: 0.3324 - val_accuracy: 0.9365\n",
            "Epoch 195/1000\n",
            "39/47 [=======================>......] - ETA: 0s - loss: 0.7648 - accuracy: 0.7374\n",
            "Epoch 195: saving model to model/keypoint_classifier/keypoint_classifier.hdf5\n",
            "47/47 [==============================] - 0s 2ms/step - loss: 0.7736 - accuracy: 0.7343 - val_loss: 0.3422 - val_accuracy: 0.9254\n",
            "Epoch 196/1000\n",
            "40/47 [========================>.....] - ETA: 0s - loss: 0.7453 - accuracy: 0.7385\n",
            "Epoch 196: saving model to model/keypoint_classifier/keypoint_classifier.hdf5\n",
            "47/47 [==============================] - 0s 3ms/step - loss: 0.7667 - accuracy: 0.7341 - val_loss: 0.3392 - val_accuracy: 0.9239\n",
            "Epoch 197/1000\n",
            "40/47 [========================>.....] - ETA: 0s - loss: 0.7738 - accuracy: 0.7264\n",
            "Epoch 197: saving model to model/keypoint_classifier/keypoint_classifier.hdf5\n",
            "47/47 [==============================] - 0s 2ms/step - loss: 0.7690 - accuracy: 0.7279 - val_loss: 0.3399 - val_accuracy: 0.9299\n",
            "Epoch 198/1000\n",
            "37/47 [======================>.......] - ETA: 0s - loss: 0.7545 - accuracy: 0.7285\n",
            "Epoch 198: saving model to model/keypoint_classifier/keypoint_classifier.hdf5\n",
            "47/47 [==============================] - 0s 2ms/step - loss: 0.7598 - accuracy: 0.7284 - val_loss: 0.3342 - val_accuracy: 0.9355\n",
            "Epoch 199/1000\n",
            "44/47 [===========================>..] - ETA: 0s - loss: 0.7718 - accuracy: 0.7349\n",
            "Epoch 199: saving model to model/keypoint_classifier/keypoint_classifier.hdf5\n",
            "47/47 [==============================] - 0s 2ms/step - loss: 0.7731 - accuracy: 0.7331 - val_loss: 0.3300 - val_accuracy: 0.9335\n",
            "Epoch 200/1000\n",
            "40/47 [========================>.....] - ETA: 0s - loss: 0.7569 - accuracy: 0.7363\n",
            "Epoch 200: saving model to model/keypoint_classifier/keypoint_classifier.hdf5\n",
            "47/47 [==============================] - 0s 2ms/step - loss: 0.7575 - accuracy: 0.7365 - val_loss: 0.3362 - val_accuracy: 0.9320\n",
            "Epoch 201/1000\n",
            "43/47 [==========================>...] - ETA: 0s - loss: 0.7411 - accuracy: 0.7465\n",
            "Epoch 201: saving model to model/keypoint_classifier/keypoint_classifier.hdf5\n",
            "47/47 [==============================] - 0s 2ms/step - loss: 0.7431 - accuracy: 0.7452 - val_loss: 0.3312 - val_accuracy: 0.9309\n",
            "Epoch 202/1000\n",
            "40/47 [========================>.....] - ETA: 0s - loss: 0.7602 - accuracy: 0.7361\n",
            "Epoch 202: saving model to model/keypoint_classifier/keypoint_classifier.hdf5\n",
            "47/47 [==============================] - 0s 2ms/step - loss: 0.7556 - accuracy: 0.7373 - val_loss: 0.3286 - val_accuracy: 0.9335\n",
            "Epoch 203/1000\n",
            "39/47 [=======================>......] - ETA: 0s - loss: 0.7646 - accuracy: 0.7378\n",
            "Epoch 203: saving model to model/keypoint_classifier/keypoint_classifier.hdf5\n",
            "47/47 [==============================] - 0s 2ms/step - loss: 0.7580 - accuracy: 0.7398 - val_loss: 0.3310 - val_accuracy: 0.9284\n",
            "Epoch 204/1000\n",
            "35/47 [=====================>........] - ETA: 0s - loss: 0.7652 - accuracy: 0.7366\n",
            "Epoch 204: saving model to model/keypoint_classifier/keypoint_classifier.hdf5\n",
            "47/47 [==============================] - 0s 2ms/step - loss: 0.7682 - accuracy: 0.7338 - val_loss: 0.3338 - val_accuracy: 0.9264\n",
            "Epoch 205/1000\n",
            "41/47 [=========================>....] - ETA: 0s - loss: 0.7436 - accuracy: 0.7422\n",
            "Epoch 205: saving model to model/keypoint_classifier/keypoint_classifier.hdf5\n",
            "47/47 [==============================] - 0s 2ms/step - loss: 0.7439 - accuracy: 0.7427 - val_loss: 0.3389 - val_accuracy: 0.9244\n",
            "Epoch 206/1000\n",
            "41/47 [=========================>....] - ETA: 0s - loss: 0.7487 - accuracy: 0.7449\n",
            "Epoch 206: saving model to model/keypoint_classifier/keypoint_classifier.hdf5\n",
            "47/47 [==============================] - 0s 2ms/step - loss: 0.7507 - accuracy: 0.7425 - val_loss: 0.3314 - val_accuracy: 0.9340\n",
            "Epoch 207/1000\n",
            "25/47 [==============>...............] - ETA: 0s - loss: 0.7416 - accuracy: 0.7503\n",
            "Epoch 207: saving model to model/keypoint_classifier/keypoint_classifier.hdf5\n",
            "47/47 [==============================] - 0s 3ms/step - loss: 0.7547 - accuracy: 0.7353 - val_loss: 0.3281 - val_accuracy: 0.9309\n",
            "Epoch 207: early stopping\n"
          ]
        },
        {
          "data": {
            "text/plain": [
              "<keras.callbacks.History at 0x7fcf5fd51340>"
            ]
          },
          "execution_count": 11,
          "metadata": {},
          "output_type": "execute_result"
        }
      ],
      "source": [
        "model.fit(\n",
        "    X_train,\n",
        "    y_train,\n",
        "    epochs=1000,\n",
        "    batch_size=128,\n",
        "    validation_data=(X_test, y_test),\n",
        "    callbacks=[cp_callback, es_callback]\n",
        ")"
      ]
    },
    {
      "cell_type": "code",
      "execution_count": 12,
      "metadata": {
        "colab": {
          "base_uri": "https://localhost:8080/"
        },
        "id": "pxvb2Y299hE3",
        "outputId": "59eb3185-2e37-4b9e-bc9d-ab1b8ac29b7f"
      },
      "outputs": [
        {
          "name": "stdout",
          "output_type": "stream",
          "text": [
            "16/16 [==============================] - 0s 944us/step - loss: 0.3281 - accuracy: 0.9309\n"
          ]
        }
      ],
      "source": [
        "# Model evaluation\n",
        "val_loss, val_acc = model.evaluate(X_test, y_test, batch_size=128)"
      ]
    },
    {
      "cell_type": "code",
      "execution_count": 13,
      "metadata": {
        "id": "RBkmDeUW9hE4"
      },
      "outputs": [],
      "source": [
        "# Loading the saved model\n",
        "model = tf.keras.models.load_model(model_save_path)"
      ]
    },
    {
      "cell_type": "code",
      "execution_count": 14,
      "metadata": {
        "colab": {
          "base_uri": "https://localhost:8080/"
        },
        "id": "tFz9Tb0I9hE4",
        "outputId": "1c3b3528-54ae-4ee2-ab04-77429211cbef"
      },
      "outputs": [
        {
          "name": "stdout",
          "output_type": "stream",
          "text": [
            "[8.07817996e-01 6.73157051e-02 1.30115114e-02 1.09635346e-01\n",
            " 1.63727824e-03 5.68616204e-04 3.06272952e-16 1.33255514e-06\n",
            " 1.29803243e-11 9.71599457e-06 1.72193580e-07 2.36406208e-06]\n",
            "0\n"
          ]
        }
      ],
      "source": [
        "# Inference test\n",
        "predict_result = model.predict(np.array([X_test[0]]))\n",
        "print(np.squeeze(predict_result))\n",
        "print(np.argmax(np.squeeze(predict_result)))"
      ]
    },
    {
      "cell_type": "markdown",
      "metadata": {
        "id": "S3U4yNWx9hE4"
      },
      "source": [
        "# Confusion matrix"
      ]
    },
    {
      "cell_type": "code",
      "execution_count": 15,
      "metadata": {
        "colab": {
          "base_uri": "https://localhost:8080/",
          "height": 582
        },
        "id": "AP1V6SCk9hE5",
        "outputId": "08e41a80-7a4a-4619-8125-ecc371368d19"
      },
      "outputs": [
        {
          "data": {
            "image/png": "[encoded data removed]",
            "text/plain": [
              "<Figure size 504x432 with 2 Axes>"
            ]
          },
          "metadata": {
            "needs_background": "light"
          },
          "output_type": "display_data"
        },
        {
          "name": "stdout",
          "output_type": "stream",
          "text": [
            "Classification Report\n",
            "              precision    recall  f1-score   support\n",
            "\n",
            "           0       0.96      0.93      0.94       405\n",
            "           1       0.99      0.84      0.91       392\n",
            "           2       0.81      0.93      0.87       322\n",
            "           3       0.88      0.87      0.88        85\n",
            "           4       0.96      0.93      0.94        82\n",
            "           5       0.92      0.98      0.95       127\n",
            "           6       0.95      1.00      0.97       110\n",
            "           7       0.92      0.97      0.95        98\n",
            "           8       1.00      0.99      0.99        96\n",
            "           9       1.00      1.00      1.00        79\n",
            "          10       0.99      1.00      0.99        96\n",
            "          11       0.90      1.00      0.95        92\n",
            "\n",
            "    accuracy                           0.93      1984\n",
            "   macro avg       0.94      0.95      0.95      1984\n",
            "weighted avg       0.94      0.93      0.93      1984\n",
            "\n"
          ]
        }
      ],
      "source": [
        "import pandas as pd\n",
        "import seaborn as sns\n",
        "import matplotlib.pyplot as plt\n",
        "from sklearn.metrics import confusion_matrix, classification_report\n",
        "\n",
        "def print_confusion_matrix(y_true, y_pred, report=True):\n",
        "    labels = sorted(list(set(y_true)))\n",
        "    cmx_data = confusion_matrix(y_true, y_pred, labels=labels)\n",
        "    \n",
        "    df_cmx = pd.DataFrame(cmx_data, index=labels, columns=labels)\n",
        " \n",
        "    fig, ax = plt.subplots(figsize=(7, 6))\n",
        "    sns.heatmap(df_cmx, annot=True, fmt='g' ,square=False)\n",
        "    ax.set_ylim(len(set(y_true)), 0)\n",
        "    plt.show()\n",
        "    \n",
        "    if report:\n",
        "        print('Classification Report')\n",
        "        print(classification_report(y_test, y_pred))\n",
        "\n",
        "Y_pred = model.predict(X_test)\n",
        "y_pred = np.argmax(Y_pred, axis=1)\n",
        "\n",
        "print_confusion_matrix(y_test, y_pred)"
      ]
    },
    {
      "cell_type": "markdown",
      "metadata": {
        "id": "FNP6aqzc9hE5"
      },
      "source": [
        "# Convert to model for Tensorflow-Lite"
      ]
    },
    {
      "cell_type": "code",
      "execution_count": 16,
      "metadata": {
        "id": "ODjnYyld9hE6"
      },
      "outputs": [],
      "source": [
        "# Save as a model dedicated to inference\n",
        "model.save(model_save_path, include_optimizer=False)"
      ]
    },
    {
      "cell_type": "code",
      "execution_count": 17,
      "metadata": {
        "colab": {
          "base_uri": "https://localhost:8080/"
        },
        "id": "zRfuK8Y59hE6",
        "outputId": "a4ca585c-b5d5-4244-8291-8674063209bb"
      },
      "outputs": [
        {
          "name": "stderr",
          "output_type": "stream",
          "text": [
            "2022-05-01 11:32:34.984894: W tensorflow/python/util/util.cc:368] Sets are not currently considered sequences, but this may change in the future, so consider avoiding using them.\n"
          ]
        },
        {
          "name": "stdout",
          "output_type": "stream",
          "text": [
            "INFO:tensorflow:Assets written to: /tmp/tmpm15m3_g3/assets\n"
          ]
        },
        {
          "name": "stderr",
          "output_type": "stream",
          "text": [
            "2022-05-01 11:32:35.675438: W tensorflow/compiler/mlir/lite/python/tf_tfl_flatbuffer_helpers.cc:357] Ignored output_format.\n",
            "2022-05-01 11:32:35.675471: W tensorflow/compiler/mlir/lite/python/tf_tfl_flatbuffer_helpers.cc:360] Ignored drop_control_dependency.\n",
            "WARNING:absl:Buffer deduplication procedure will be skipped when flatbuffer library is not properly loaded\n",
            "2022-05-01 11:32:35.676173: I tensorflow/cc/saved_model/reader.cc:43] Reading SavedModel from: /tmp/tmpm15m3_g3\n",
            "2022-05-01 11:32:35.677613: I tensorflow/cc/saved_model/reader.cc:78] Reading meta graph with tags { serve }\n",
            "2022-05-01 11:32:35.677644: I tensorflow/cc/saved_model/reader.cc:119] Reading SavedModel debug info (if present) from: /tmp/tmpm15m3_g3\n",
            "2022-05-01 11:32:35.683402: I tensorflow/cc/saved_model/loader.cc:228] Restoring SavedModel bundle.\n",
            "2022-05-01 11:32:35.722990: I tensorflow/cc/saved_model/loader.cc:212] Running initialization op on SavedModel bundle at path: /tmp/tmpm15m3_g3\n",
            "2022-05-01 11:32:35.735755: I tensorflow/cc/saved_model/loader.cc:301] SavedModel load for tags { serve }; Status: success: OK. Took 59584 microseconds.\n",
            "2022-05-01 11:32:35.751996: I tensorflow/compiler/mlir/tensorflow/utils/dump_mlir_util.cc:237] disabling MLIR crash reproducer, set env var `MLIR_CRASH_REPRODUCER_DIRECTORY` to enable.\n",
            "2022-05-01 11:32:35.784612: I tensorflow/lite/tools/optimize/quantize_weights.cc:225] Skipping quantization of tensor sequential/dense/MatMul because it has fewer than 1024 elements (840).\n",
            "2022-05-01 11:32:35.784647: I tensorflow/lite/tools/optimize/quantize_weights.cc:225] Skipping quantization of tensor sequential/dense_1/MatMul because it has fewer than 1024 elements (200).\n",
            "2022-05-01 11:32:35.784654: I tensorflow/lite/tools/optimize/quantize_weights.cc:225] Skipping quantization of tensor sequential/dense_2/MatMul because it has fewer than 1024 elements (120).\n"
          ]
        },
        {
          "data": {
            "text/plain": [
              "6768"
            ]
          },
          "execution_count": 17,
          "metadata": {},
          "output_type": "execute_result"
        }
      ],
      "source": [
        "# Transform model (quantization)\n",
        "\n",
        "converter = tf.lite.TFLiteConverter.from_keras_model(model)\n",
        "converter.optimizations = [tf.lite.Optimize.DEFAULT]\n",
        "tflite_quantized_model = converter.convert()\n",
        "\n",
        "open(tflite_save_path, 'wb').write(tflite_quantized_model)"
      ]
    },
    {
      "cell_type": "markdown",
      "metadata": {
        "id": "CHBPBXdx9hE6"
      },
      "source": [
        "# Inference test"
      ]
    },
    {
      "cell_type": "code",
      "execution_count": 18,
      "metadata": {
        "id": "mGAzLocO9hE7"
      },
      "outputs": [
        {
          "name": "stderr",
          "output_type": "stream",
          "text": [
            "INFO: Created TensorFlow Lite XNNPACK delegate for CPU.\n"
          ]
        }
      ],
      "source": [
        "interpreter = tf.lite.Interpreter(model_path=tflite_save_path)\n",
        "interpreter.allocate_tensors()"
      ]
    },
    {
      "cell_type": "code",
      "execution_count": 19,
      "metadata": {
        "id": "oQuDK8YS9hE7"
      },
      "outputs": [],
      "source": [
        "# Get I / O tensor\n",
        "input_details = interpreter.get_input_details()\n",
        "output_details = interpreter.get_output_details()"
      ]
    },
    {
      "cell_type": "code",
      "execution_count": 20,
      "metadata": {
        "id": "2_ixAf_l9hE7"
      },
      "outputs": [],
      "source": [
        "interpreter.set_tensor(input_details[0]['index'], np.array([X_test[0]]))"
      ]
    },
    {
      "cell_type": "code",
      "execution_count": 21,
      "metadata": {
        "colab": {
          "base_uri": "https://localhost:8080/"
        },
        "id": "s4FoAnuc9hE7",
        "outputId": "91f18257-8d8b-4ef3-c558-e9b5f94fabbf",
        "scrolled": true
      },
      "outputs": [
        {
          "name": "stdout",
          "output_type": "stream",
          "text": [
            "CPU times: user 38 µs, sys: 4 µs, total: 42 µs\n",
            "Wall time: 47.4 µs\n"
          ]
        }
      ],
      "source": [
        "%%time\n",
        "# Inference implementation\n",
        "interpreter.invoke()\n",
        "tflite_results = interpreter.get_tensor(output_details[0]['index'])"
      ]
    },
    {
      "cell_type": "code",
      "execution_count": 22,
      "metadata": {
        "colab": {
          "base_uri": "https://localhost:8080/"
        },
        "id": "vONjp19J9hE8",
        "outputId": "77205e24-fd00-42c4-f7b6-e06e527c2cba"
      },
      "outputs": [
        {
          "name": "stdout",
          "output_type": "stream",
          "text": [
            "[8.07817996e-01 6.73157275e-02 1.30115291e-02 1.09635316e-01\n",
            " 1.63728127e-03 5.68615971e-04 3.06271735e-16 1.33255367e-06\n",
            " 1.29803486e-11 9.71602185e-06 1.72193737e-07 2.36405776e-06]\n",
            "0\n"
          ]
        }
      ],
      "source": [
        "print(np.squeeze(tflite_results))\n",
        "print(np.argmax(np.squeeze(tflite_results)))"
      ]
    }
  ],
  "metadata": {
    "accelerator": "GPU",
    "colab": {
      "collapsed_sections": [],
      "name": "keypoint_classification_EN.ipynb",
      "provenance": [],
      "toc_visible": true
    },
    "interpreter": {
      "hash": "916dbcbb3f70747c44a77c7bcd40155683ae19c65e1c03b4aa3499c5328201f1"
    },
    "kernelspec": {
      "display_name": "Python 3.8.10 64-bit",
      "language": "python",
      "name": "python3"
    },
    "language_info": {
      "codemirror_mode": {
        "name": "ipython",
        "version": 3
      },
      "file_extension": ".py",
      "mimetype": "text/x-python",
      "name": "python",
      "nbconvert_exporter": "python",
      "pygments_lexer": "ipython3",
      "version": "3.8.10"
    }
  },
  "nbformat": 4,
  "nbformat_minor": 0
}
